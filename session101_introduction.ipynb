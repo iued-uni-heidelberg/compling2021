{
  "nbformat": 4,
  "nbformat_minor": 0,
  "metadata": {
    "colab": {
      "name": "session101-introduction.ipynb",
      "provenance": []
    },
    "kernelspec": {
      "name": "python3",
      "display_name": "Python 3"
    },
    "language_info": {
      "name": "python"
    }
  },
  "cells": [
    {
      "cell_type": "markdown",
      "metadata": {
        "id": "47bkrfWDfRXv"
      },
      "source": [
        "# Preparation and processing of textual data\n",
        "\n",
        "This notebook will recap key Python concepts for data preparation and cleaning\n",
        "\n",
        "## Project 1: creating Python dictionary\n",
        "\n",
        "In this project we will create a frequency dictionary of N-grams and Skip-grams\n",
        "\n",
        "### Tasks of the project\n",
        "\n",
        "Read a corpus in text format and create the following frequency dictionaries, sorted in reverse order of frequencies:\n",
        "\n",
        "1. The dictionary of single words\n",
        "2. The dictionary of continuous word sequences (N-grams) within a sentence, from length 1 and up to N words long (N to be given as a parameter before running the programme)\n",
        "3. The dictionary of N-grams with N > 2, and up to N-words long, which have 1 gap in the middle (skip-grams), where the omited word is replaced by a placeholder \"___\".\n",
        "\n",
        "### Stages of the project\n",
        "\n",
        "Stage 1: downloading and preparing the dataset\n",
        "\n",
        "Stage 2: reading the input\n",
        "\n",
        "Stage 3: extracting required features\n",
        "\n",
        "Stage 4: storing and frequency counts\n",
        "\n",
        "Stage 5: generating output file, interpreting the results\n",
        "\n",
        "Task: create code cells for each stage, which will perform the tasks.\n"
      ]
    },
    {
      "cell_type": "code",
      "metadata": {
        "id": "SKGkEw5klAPW"
      },
      "source": [
        "# downloading the corpus\n"
      ],
      "execution_count": null,
      "outputs": []
    }
  ]
}
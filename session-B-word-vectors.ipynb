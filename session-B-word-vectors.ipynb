{
  "nbformat": 4,
  "nbformat_minor": 0,
  "metadata": {
    "language_info": {
      "codemirror_mode": {
        "name": "ipython",
        "version": 3
      },
      "file_extension": ".py",
      "mimetype": "text/x-python",
      "name": "python",
      "nbconvert_exporter": "python",
      "pygments_lexer": "ipython3",
      "version": "3.8.3"
    },
    "orig_nbformat": 4,
    "kernelspec": {
      "name": "python3",
      "display_name": "Python 3.8.3 64-bit"
    },
    "interpreter": {
      "hash": "aee8b7b246df8f9039afb4144a1f6fd8d2ca17a180786b69acc140d282b71a49"
    },
    "colab": {
      "name": "session-B-word-vectors.ipynb",
      "provenance": []
    }
  },
  "cells": [
    {
      "cell_type": "markdown",
      "metadata": {
        "id": "Ty2YWcLcvKl4"
      },
      "source": [
        "# Session B: Word Vectors\n",
        "\n",
        "Word vectors (also known as 'word embeddings') are one of the most popular kinds of AI models. They are extremely useful in many domains. In essence, a word vector is a set of numbers that attempt to capture the meaning of a word. In typical implementations, each word is represented by a set of 200-300 numbers. In linear algebra, a one-dimensional array of numbers is known as a 'vector', hence these sets of numbers representing words' meanings are known as 'word vectors'.\n",
        "\n",
        "Using neural networks, we can expose the computer to a large amount of text, and allow it to learn an appropriate set of numbers for each word it encounters. In this notebook, we will learn about the most famous of all word vector algorithms, `word2vec`, which was first described by Tomas Mikolov and his team in 2013:\n",
        "\n",
        "* Tomas Mikolov, Ilya Sutskever, and others, ‘Distributed Representations of Words and Phrases and Their Compositionality’, in Advances in Neural Information Processing Systems 26, ed. by C. J. C. Burges and others (Curran Associates, Inc., 2013), pp. 3111–19 <http://papers.nips.cc/paper/5021-distributed-representations-of-words-and-phrases-and-their-compositionality.pdf>\n",
        "* Tomas Mikolov, Kai Chen, and others, ‘Efficient Estimation of Word Representations in Vector Space’, ArXiv:1301.3781 Cs, 2013 <http://arxiv.org/abs/1301.3781>.\n",
        "\n",
        "In fact, `word2vec` is not a single algorithm, but rather a family of similar algorithms. In this session we will consider just the most famous `word2vec` algorithm, namely the `skip-gram model` trained using `negative sampling`."
      ]
    },
    {
      "cell_type": "markdown",
      "metadata": {
        "id": "SWLKKQ0lvKl5"
      },
      "source": [
        "## Applications of Word Vectors\n",
        "\n",
        "Word vectors allow the computer to 'understand' language far more effectively. Rather than seeing each word as simply an arbitrarily different object, a computer using word vectors can analyse each word as a point in 200- or 300-dimenstional space. Words that are similar in meaning will have similar word vectors. And as we will see, the spaces between the word vectors are also significant: the words are arranged in patterns that represent their relationships to one another.\n",
        "\n",
        "Accordingly, most AI systems that process language now include a word vector layer as part of their architecure. When the system encounters some text (e.g. when you speak to Siri or Alexa), your words are converted into word vectors, *and then* the computer examines what the text says and determines how it should respond.\n",
        "\n",
        "In the Humanities, word vectors have become a popular modelling tool, because they allow researchers to perform sophisticated analysis on large corpora of text. Some examples include:\n",
        "\n",
        "* [The Women Writers Vector Toolkit](https://wwp.northeastern.edu/lab/wwvt/index.html)\n",
        "* William L. Hamilton, Jure Leskovec, and Dan Jurafsky, ‘Diachronic Word Embeddings Reveal Statistical Laws of Semantic Change’, ArXiv:1605.09096 [Cs], 2018 <http://arxiv.org/abs/1605.09096>.\n",
        "* Ryan Heuser, 'Semantic Networks' <https://ryanheuser.org/word-vectors-4/>"
      ]
    },
    {
      "cell_type": "markdown",
      "metadata": {
        "id": "o4ZWncLevKl5"
      },
      "source": [
        "## Training a `word2vec` model in Gensim\n",
        "\n",
        "It is very easy to train a `word2vec` model in Gensim, which includes Mikolov's original `word2vec` code in its codebase."
      ]
    },
    {
      "cell_type": "code",
      "metadata": {
        "id": "QgedLV80vKl6"
      },
      "source": [
        "from gensim.models import Word2Vec # The word2vec model class\n",
        "import gensim.downloader as api # Allows us to download some free training data\n",
        "corpus = api.load('text8')\n",
        "# api.info()"
      ],
      "execution_count": null,
      "outputs": []
    },
    {
      "cell_type": "markdown",
      "metadata": {
        "id": "nvSxGbYN8aHr"
      },
      "source": [
        "text8 is first 100MB from English wikipedia, 17 million words\n",
        "\n",
        "The file is downloadable from \n",
        "http://mattmahoney.net/dc/text8.zip\n"
      ]
    },
    {
      "cell_type": "code",
      "metadata": {
        "id": "GOfGR4GVxzIY"
      },
      "source": [
        "# Examine the corpus to see what is there\n",
        "api.info(\"text8\")"
      ],
      "execution_count": null,
      "outputs": []
    },
    {
      "cell_type": "code",
      "metadata": {
        "id": "hNRnUeEDzJS8"
      },
      "source": [
        "type(corpus)"
      ],
      "execution_count": null,
      "outputs": []
    },
    {
      "cell_type": "code",
      "metadata": {
        "id": "dlSD09Qoz_6t"
      },
      "source": [
        "data = [d for d in corpus]"
      ],
      "execution_count": null,
      "outputs": []
    },
    {
      "cell_type": "code",
      "metadata": {
        "id": "wyeDslt-26E2"
      },
      "source": [
        "len(data)"
      ],
      "execution_count": null,
      "outputs": []
    },
    {
      "cell_type": "code",
      "metadata": {
        "id": "TUQzkxNbyTEF"
      },
      "source": [
        "len(data[0])"
      ],
      "execution_count": null,
      "outputs": []
    },
    {
      "cell_type": "code",
      "metadata": {
        "id": "sEmirZe2yR9y"
      },
      "source": [
        "print(data[0][:100])"
      ],
      "execution_count": null,
      "outputs": []
    },
    {
      "cell_type": "code",
      "metadata": {
        "id": "YkvbCylDyZF_"
      },
      "source": [
        "print(data[1][:100])"
      ],
      "execution_count": null,
      "outputs": []
    },
    {
      "cell_type": "markdown",
      "metadata": {
        "id": "_eEjBCxovKl6"
      },
      "source": [
        "### Step 1: Set hyperparameters and instantiate model"
      ]
    },
    {
      "cell_type": "code",
      "metadata": {
        "id": "K9MC27DDvKl6"
      },
      "source": [
        "vector_size = 100 # Dimensionality of the word vectors\n",
        "window = 5 # How many words either side? (5 = 5 context words either side, i.e. 10 context words in total)\n",
        "use_skip_gram = 1 # If you set this to 0, then it will create a 'continuous bag of words' model instead\n",
        "use_softmax = 0 # If you set this to 1, then hierarchical softmax will be used instead of negative sampling\n",
        "negative_samples = 5 # How many incorrect answers to generate per correct answer when negative sampling\n",
        "\n",
        "model = Word2Vec(\n",
        "    size=vector_size,\n",
        "    window=window,\n",
        "    sg=use_skip_gram,\n",
        "    hs=use_softmax,\n",
        "    negative=negative_samples\n",
        ")"
      ],
      "execution_count": null,
      "outputs": []
    },
    {
      "cell_type": "markdown",
      "metadata": {
        "id": "ofhbkdEjvKl7"
      },
      "source": [
        "### Step 2: Fit model to corpus"
      ]
    },
    {
      "cell_type": "code",
      "metadata": {
        "id": "cEieLoWlvKl7"
      },
      "source": [
        "# build a model\n",
        "model.build_vocab(corpus)"
      ],
      "execution_count": null,
      "outputs": []
    },
    {
      "cell_type": "code",
      "metadata": {
        "id": "8e_ijem9vKl7"
      },
      "source": [
        "# Train the model on the corpus\n",
        "model.train(sentences=corpus, epochs=5, total_examples=model.corpus_count)"
      ],
      "execution_count": null,
      "outputs": []
    },
    {
      "cell_type": "markdown",
      "metadata": {
        "id": "ThYRouIevKl8"
      },
      "source": [
        "### Step 3: Extract word vectors from model\n",
        "\n",
        "The fully trained model includes all of the weights used to predict the context words for each input word. If you are not planning on training the model further, these weights can be discarded, and you can just keep the weights for the word vectors."
      ]
    },
    {
      "cell_type": "code",
      "metadata": {
        "id": "4V0LfNx_vKl8"
      },
      "source": [
        "word_vectors = model.wv\n",
        "del model # Delete the whole model to free up the computer's RAM"
      ],
      "execution_count": null,
      "outputs": []
    },
    {
      "cell_type": "markdown",
      "metadata": {
        "id": "zSkZD22AvKl8"
      },
      "source": [
        "### Step 4: Have a play with the model\n",
        "\n",
        "There are several ways you can use word vectors. One of the most famous is to use them to compute analogies. The formula is:\n",
        "\n",
        "<center><em>x</em> is to <em>small</em> as <em>biggest</em> is to <em>big</em></center>\n",
        "\n",
        "$$x - vector('small') = vector('biggest') - vector('big')$$\n",
        "\n",
        "$$\\therefore x = vector('small') + vector('biggest') - vector('big')$$"
      ]
    },
    {
      "cell_type": "code",
      "metadata": {
        "id": "2Pftv0DEvKl8"
      },
      "source": [
        "# See the word vector for a particular word\n",
        "vector = word_vectors['banana']\n",
        "print(vector)"
      ],
      "execution_count": null,
      "outputs": []
    },
    {
      "cell_type": "code",
      "metadata": {
        "id": "8_qUSF7ZvKl9"
      },
      "source": [
        "# See which words are closest to a given word in the vector space\n",
        "similar_words = word_vectors.most_similar('university', topn=10)\n",
        "print('\\n'.join([str(tup) for tup in similar_words]))"
      ],
      "execution_count": null,
      "outputs": []
    },
    {
      "cell_type": "code",
      "metadata": {
        "id": "T38xLSz62OyK"
      },
      "source": [
        "# See which words are closest to a given word in the vector space\n",
        "similar_words = word_vectors.most_similar('red', topn=10)\n",
        "print('\\n'.join([str(tup) for tup in similar_words]))"
      ],
      "execution_count": null,
      "outputs": []
    },
    {
      "cell_type": "code",
      "metadata": {
        "id": "wvyAmb152SMD"
      },
      "source": [
        "# See which words are closest to a given word in the vector space\n",
        "similar_words = word_vectors.most_similar('brussels', topn=10)\n",
        "print('\\n'.join([str(tup) for tup in similar_words]))"
      ],
      "execution_count": null,
      "outputs": []
    },
    {
      "cell_type": "code",
      "metadata": {
        "id": "r68SeidU2lRz"
      },
      "source": [
        "# See which words are closest to a given word in the vector space\n",
        "similar_words = word_vectors.most_similar('germany', topn=10)\n",
        "print('\\n'.join([str(tup) for tup in similar_words]))"
      ],
      "execution_count": null,
      "outputs": []
    },
    {
      "cell_type": "code",
      "metadata": {
        "id": "6RVNTkIs2thF"
      },
      "source": [
        "# See which words are closest to a given word in the vector space\n",
        "similar_words = word_vectors.most_similar('strange', topn=10)\n",
        "print('\\n'.join([str(tup) for tup in similar_words]))"
      ],
      "execution_count": null,
      "outputs": []
    },
    {
      "cell_type": "code",
      "metadata": {
        "id": "2Oqwf3ni21zW"
      },
      "source": [
        "# Compute analogous words\n",
        "# E.g. x is to queen as man is to king => x = v('queen') + v('man') - v('king')\n",
        "analogous_words = word_vectors.most_similar(negative=['man'], positive=['king','woman'])\n",
        "print('\\n'.join([str(tup) for tup in analogous_words]))"
      ],
      "execution_count": null,
      "outputs": []
    },
    {
      "cell_type": "code",
      "metadata": {
        "id": "0sVv80bYvKl9"
      },
      "source": [
        "# Compute analogous words\n",
        "# E.g. x is to queen as man is to king => x = v('queen') + v('man') - v('king')\n",
        "analogous_words = word_vectors.most_similar(negative=['king'], positive=['queen','man'])\n",
        "print('\\n'.join([str(tup) for tup in analogous_words]))"
      ],
      "execution_count": null,
      "outputs": []
    },
    {
      "cell_type": "code",
      "metadata": {
        "id": "q8gfHhZf3Byi"
      },
      "source": [
        "# Compute analogous words\n",
        "# E.g. x is to queen as man is to king => x = v('queen') + v('man') - v('king')\n",
        "analogous_words = word_vectors.most_similar(negative=['mother'], positive=['father','daughter'])\n",
        "print('\\n'.join([str(tup) for tup in analogous_words]))"
      ],
      "execution_count": null,
      "outputs": []
    },
    {
      "cell_type": "code",
      "metadata": {
        "id": "IuzURZa_6hQC"
      },
      "source": [
        "# Compute analogous words\n",
        "# E.g. x is to queen as man is to king => x = v('queen') + v('man') - v('king')\n",
        "analogous_words = word_vectors.most_similar(negative=['mother'], positive=['father','girl'])\n",
        "print('\\n'.join([str(tup) for tup in analogous_words]))"
      ],
      "execution_count": null,
      "outputs": []
    },
    {
      "cell_type": "code",
      "metadata": {
        "id": "PzzlKdei6uiW"
      },
      "source": [
        "# Compute analogous words\n",
        "# x is to daughter as people is to person (plural + daughter)\n",
        "analogous_words = word_vectors.most_similar(negative=['person'], positive=['people','daughter'])\n",
        "print('\\n'.join([str(tup) for tup in analogous_words]))"
      ],
      "execution_count": null,
      "outputs": []
    },
    {
      "cell_type": "markdown",
      "metadata": {
        "id": "22fSc-iyvKl9"
      },
      "source": [
        "## Step 4A - optional. Using pre-trained models in Gensim\n",
        "\n",
        "In many applications, you will simply want access to pre-trained word vectors (e.g. for plugging in to another model you are training). If you don't need the vectors to be tailored closely to your particular corpus, then you might like to use some pretrained models.\n",
        "\n",
        "`word2vec` is not the only word embedding family of algorithms. Another, arguably even more powerful algorithm is the `FastText` algorithm, which Mikolov developed after moving to Facebook:\n",
        "\n",
        "* Piotr Bojanowski and others, ‘Enriching Word Vectors with Subword Information’, ArXiv:1607.04606, 2017 <http://arxiv.org/abs/1607.04606>.\n",
        "\n",
        "Instead of computing word vectors for each word, FastText splits each word into its constituent chunks. For example, 'cat' would be split into 'c', 'a', 't', 'ca', 'at' and 'cat', and 'burp' would be split into 'b', 'u', 'r', 'p', 'bu', 'ur', 'rp', 'bur', 'urp' and 'burp'. Then a vector is computer for each chunk that appears in the corpus. Each word is represented as the mean of all the chunks that make it up. FastText is able to learn very good word vectors because it can extract meaning from subword units, e.g. it can see that 'television', 'telegraph' and 'telepathy' all have 'tele' at the front, and can see that 'formality', 'criminality' and 'paucity' share subword units such as 'al' and 'ity'.\n",
        "\n",
        "You can access many pretrained models using the Gensim downloader. Using the cells below, you can try out some of the different models available through Gensim. Along with `word2vec` and `FastText`, Gensim also supports `Glove` and `Doc2Vec` models.\n",
        "\n",
        "**NB:** These trained models are very large, and will take a while to download. You may wish to download this notebook and execute the cells below on your own machine, in case Google kicks you out of the Colab environment."
      ]
    },
    {
      "cell_type": "code",
      "metadata": {
        "id": "rldVE5pmvKl-"
      },
      "source": [
        "# See what models are on offer\n",
        "print(list(api.info()['models'].keys()))"
      ],
      "execution_count": null,
      "outputs": []
    },
    {
      "cell_type": "code",
      "metadata": {
        "id": "nMTAxneZ7OaZ"
      },
      "source": [
        "# Optional! THIS WILL TAKE SOME TIME!!!\n",
        "# 300-dimensional word vectors trained on a huge dataset from Google News\n",
        "google_news_w2v = api.load('word2vec-google-news-300')"
      ],
      "execution_count": null,
      "outputs": []
    },
    {
      "cell_type": "code",
      "metadata": {
        "id": "uTKwcm_7vKl-"
      },
      "source": [
        "# x is to Kenya as Canberra is to Australia\n",
        "google_news_w2v.most_similar(negative=['australia'],positive=['kenya','canberra'], topn=10)"
      ],
      "execution_count": null,
      "outputs": []
    },
    {
      "cell_type": "code",
      "metadata": {
        "id": "mPZl6qzEvKl-"
      },
      "source": [
        "# Optional! THIS WILL TAKE SOME TIME!!!\n",
        "# Facebook's own FastText vectors, trained on Wikipedia\n",
        "wikipedia_fasttext = api.load('fasttext-wiki-news-subwords-300')"
      ],
      "execution_count": null,
      "outputs": []
    },
    {
      "cell_type": "code",
      "metadata": {
        "id": "w4xj0CGQ7iFg"
      },
      "source": [
        "# x is to Wharton as London is to Dickens\n",
        "wikipedia_fasttext.most_similar(negative=['dickens'],positive=['wharton','london'], topn=10)"
      ],
      "execution_count": null,
      "outputs": []
    },
    {
      "cell_type": "code",
      "metadata": {
        "id": "H4gsyd3-_8eN"
      },
      "source": [
        "# try your own examples... "
      ],
      "execution_count": 1,
      "outputs": []
    },
    {
      "cell_type": "markdown",
      "metadata": {
        "id": "NqVFfYx878cA"
      },
      "source": [
        "## Step 5. Training the Armenian model\n",
        "\n",
        "Now let's train a model on our own corpus. You can try to create Armenian / Ukrainian / Russian / German / French word vector model.\n",
        "\n",
        "Armenian, Ukrainian, Russian plaintext wikipedias are available at:\n",
        "https://lindat.mff.cuni.cz/repository/xmlui/handle/11234/1-2735#\n",
        "\n",
        "We can use the same size ~15 Million Words, (200MB) of these corpora to make sure the model is built within a reasonable time; however, when you have more time, you can try a more complete corpus.\n",
        "\n",
        "It is possible to download/unzip/upload the files manually, however, it is faster to automatically load them directly from Heidelberg server space https://heibox.uni-heidelberg.de/d/42a07c9e95774e099a81/  into your colab environment. To do this run the cells 5a or 5b, or 5c, or 5d, or 5e -- depending on which language you prefer -- to download the data. Then skip other language and continue with Step5 -- building the model for your preferred language from the data you downloaded.\n"
      ]
    },
    {
      "cell_type": "code",
      "metadata": {
        "id": "8uwDxwRTSnqY"
      },
      "source": [
        "!rm /usr/local/lib/python3.7/dist-packages/gensim/test/test_data/myOwnLangText8.txt\n",
        "!rm index.html?dl=1"
      ],
      "execution_count": null,
      "outputs": []
    },
    {
      "cell_type": "markdown",
      "metadata": {
        "id": "EPZo393WEWGW"
      },
      "source": [
        "### Either: 5a Armenian"
      ]
    },
    {
      "cell_type": "code",
      "metadata": {
        "id": "jLc70OaADDsY"
      },
      "source": [
        "!wget https://heibox.uni-heidelberg.de/f/ffe527ed3d1e4b4cb43a/?dl=1"
      ],
      "execution_count": null,
      "outputs": []
    },
    {
      "cell_type": "code",
      "metadata": {
        "id": "Yj1swlOVH4J9"
      },
      "source": [
        "!cp index.html?dl=1 /usr/local/lib/python3.7/dist-packages/gensim/test/test_data/myOwnLangText8.txt"
      ],
      "execution_count": null,
      "outputs": []
    },
    {
      "cell_type": "code",
      "metadata": {
        "id": "ASwFiA0tPfBn"
      },
      "source": [
        "!head --lines=15 /usr/local/lib/python3.7/dist-packages/gensim/test/test_data/myOwnLangText8.txt"
      ],
      "execution_count": null,
      "outputs": []
    },
    {
      "cell_type": "markdown",
      "metadata": {
        "id": "teve3mqpEdgG"
      },
      "source": [
        "### Or: 5b Ukrainian"
      ]
    },
    {
      "cell_type": "code",
      "metadata": {
        "id": "Pz-lMC8ZEgTQ"
      },
      "source": [
        "!wget https://heibox.uni-heidelberg.de/f/676bef3a6db8482e9665/?dl=1"
      ],
      "execution_count": null,
      "outputs": []
    },
    {
      "cell_type": "code",
      "metadata": {
        "id": "3Kw3XZQPH47I"
      },
      "source": [
        "!cp index.html?dl=1 /usr/local/lib/python3.7/dist-packages/gensim/test/test_data/myOwnLangText8.txt"
      ],
      "execution_count": null,
      "outputs": []
    },
    {
      "cell_type": "code",
      "metadata": {
        "id": "ARd-3RfY8mw5"
      },
      "source": [
        "!head --lines=15 /usr/local/lib/python3.7/dist-packages/gensim/test/test_data/myOwnLangText8.txt"
      ],
      "execution_count": null,
      "outputs": []
    },
    {
      "cell_type": "markdown",
      "metadata": {
        "id": "OKKHYl4dFFcT"
      },
      "source": [
        "### Or: 5c German"
      ]
    },
    {
      "cell_type": "code",
      "metadata": {
        "id": "k9i_seazFN9i"
      },
      "source": [
        "!wget https://heibox.uni-heidelberg.de/f/ca0a085347c34563a6e6/?dl=1"
      ],
      "execution_count": null,
      "outputs": []
    },
    {
      "cell_type": "code",
      "metadata": {
        "id": "m13CwxeEH9dk"
      },
      "source": [
        "!cp index.html?dl=1 /usr/local/lib/python3.7/dist-packages/gensim/test/test_data/myOwnLangText8.txt"
      ],
      "execution_count": null,
      "outputs": []
    },
    {
      "cell_type": "code",
      "metadata": {
        "id": "RBO_zgLb8vJm"
      },
      "source": [
        "!head --lines=15 /usr/local/lib/python3.7/dist-packages/gensim/test/test_data/myOwnLangText8.txt"
      ],
      "execution_count": null,
      "outputs": []
    },
    {
      "cell_type": "markdown",
      "metadata": {
        "id": "PWDlNugkFOZP"
      },
      "source": [
        "### Or: 5d French"
      ]
    },
    {
      "cell_type": "code",
      "metadata": {
        "id": "eL18LA1PFRAM"
      },
      "source": [
        "!wget https://heibox.uni-heidelberg.de/f/5cdb485efd4046f2a457/?dl=1"
      ],
      "execution_count": null,
      "outputs": []
    },
    {
      "cell_type": "code",
      "metadata": {
        "id": "BorzWO26H-Gx"
      },
      "source": [
        "!cp index.html?dl=1 /usr/local/lib/python3.7/dist-packages/gensim/test/test_data/myOwnLangText8.txt"
      ],
      "execution_count": null,
      "outputs": []
    },
    {
      "cell_type": "code",
      "metadata": {
        "id": "RushLVUX8w5k"
      },
      "source": [
        "!head --lines=15 /usr/local/lib/python3.7/dist-packages/gensim/test/test_data/myOwnLangText8.txt"
      ],
      "execution_count": null,
      "outputs": []
    },
    {
      "cell_type": "markdown",
      "metadata": {
        "id": "wHgYuC3WEkP9"
      },
      "source": [
        "### Or: 5e Russian"
      ]
    },
    {
      "cell_type": "code",
      "metadata": {
        "id": "bLZGPlAnE_-F"
      },
      "source": [
        "!wget https://heibox.uni-heidelberg.de/f/d8d381152ceb479080ca/?dl=1"
      ],
      "execution_count": null,
      "outputs": []
    },
    {
      "cell_type": "code",
      "metadata": {
        "id": "eY15aeujOCy-"
      },
      "source": [
        "!cp index.html?dl=1 /usr/local/lib/python3.7/dist-packages/gensim/test/test_data/myOwnLangText8.txt"
      ],
      "execution_count": null,
      "outputs": []
    },
    {
      "cell_type": "code",
      "metadata": {
        "id": "tRkIAM638ygM"
      },
      "source": [
        "!head --lines=15 /usr/local/lib/python3.7/dist-packages/gensim/test/test_data/myOwnLangText8.txt"
      ],
      "execution_count": null,
      "outputs": []
    },
    {
      "cell_type": "markdown",
      "metadata": {
        "id": "-AJ9guGSNkyw"
      },
      "source": [
        "### Stage6: Training own model"
      ]
    },
    {
      "cell_type": "markdown",
      "metadata": {
        "id": "kCj_-BYcOe7A"
      },
      "source": [
        "optional: to clean disk space, we remove the downloaded file"
      ]
    },
    {
      "cell_type": "code",
      "metadata": {
        "id": "NnO8k3CWOdqK"
      },
      "source": [
        "# optional: to clean disk space, we remove the downloaded file\n",
        "!rm index.html\\?dl\\=1"
      ],
      "execution_count": null,
      "outputs": []
    },
    {
      "cell_type": "code",
      "metadata": {
        "id": "3AAzBAWaPQZB"
      },
      "source": [
        "from gensim.test.utils import datapath\n",
        "from gensim import utils\n",
        "\n",
        "class MyCorpus:\n",
        "    \"\"\"An iterator that yields sentences (lists of str).\"\"\"\n",
        "\n",
        "    def __iter__(self):\n",
        "        corpus_path = datapath('myOwnLangText8.txt')\n",
        "        for line in open(corpus_path):\n",
        "            # assume there's one document per line, tokens separated by whitespace\n",
        "            yield utils.simple_preprocess(line)"
      ],
      "execution_count": null,
      "outputs": []
    },
    {
      "cell_type": "code",
      "metadata": {
        "id": "i9VFjEuyQQ1u"
      },
      "source": [
        "import gensim.models\n",
        "corpusOwn = MyCorpus()"
      ],
      "execution_count": null,
      "outputs": []
    },
    {
      "cell_type": "markdown",
      "metadata": {
        "id": "DARUsusgQyWO"
      },
      "source": [
        "optional: examining what is in the corpus after standard preprocessing"
      ]
    },
    {
      "cell_type": "code",
      "metadata": {
        "id": "-tLeaX0rQiD7"
      },
      "source": [
        "# Optional: Examining our corpus format\n",
        "type(corpusOwn)"
      ],
      "execution_count": null,
      "outputs": []
    },
    {
      "cell_type": "code",
      "metadata": {
        "id": "zSzwUYw_QxYD"
      },
      "source": [
        "dataOwn = [d for d in corpusOwn]"
      ],
      "execution_count": null,
      "outputs": []
    },
    {
      "cell_type": "code",
      "metadata": {
        "id": "4YWSko1SRLJl"
      },
      "source": [
        "print(len(dataOwn))\n",
        "print(dataOwn[0])\n",
        "print(len(dataOwn[0]))\n",
        "print(dataOwn[4])\n",
        "print(len(dataOwn[4]))\n",
        "print(dataOwn[5])\n",
        "print(len(dataOwn[5]))"
      ],
      "execution_count": null,
      "outputs": []
    },
    {
      "cell_type": "markdown",
      "metadata": {
        "id": "468wJ6YkVNad"
      },
      "source": [
        "... Initialising global parameters for our modelL vector size, collocation window, skip-grams, negative sampling...."
      ]
    },
    {
      "cell_type": "code",
      "metadata": {
        "id": "xObhQQ2SVBDn"
      },
      "source": [
        "vector_size = 100 # Dimensionality of the word vectors\n",
        "window = 5 # How many words either side? (5 = 5 context words either side, i.e. 10 context words in total)\n",
        "use_skip_gram = 1 # If you set this to 0, then it will create a 'continuous bag of words' model instead\n",
        "use_softmax = 0 # If you set this to 1, then hierarchical softmax will be used instead of negative sampling\n",
        "negative_samples = 5 # How many incorrect answers to generate per correct answer when negative sampling\n",
        "\n",
        "modelOwn = Word2Vec(\n",
        "    size=vector_size,\n",
        "    window=window,\n",
        "    sg=use_skip_gram,\n",
        "    hs=use_softmax,\n",
        "    negative=negative_samples\n",
        ")"
      ],
      "execution_count": null,
      "outputs": []
    },
    {
      "cell_type": "markdown",
      "metadata": {
        "id": "e_QILgoIVeea"
      },
      "source": [
        "... this cell may run for ~2 min or so..."
      ]
    },
    {
      "cell_type": "code",
      "metadata": {
        "id": "gaecmdkPVLCh"
      },
      "source": [
        "modelOwn.build_vocab(corpusOwn)"
      ],
      "execution_count": null,
      "outputs": []
    },
    {
      "cell_type": "markdown",
      "metadata": {
        "id": "HEdwCKEVVnGv"
      },
      "source": [
        "THIS MAY TAKE LONG!!! ... training the model may take 9 to 15 minutes... (just grab a cup of coffee or a sandwich while you are waiting... You may try chaning the number of epochs; if the number is lower the training is faster, but the quality may be lower..."
      ]
    },
    {
      "cell_type": "code",
      "metadata": {
        "id": "UrvDUrOJVxOG"
      },
      "source": [
        "modelOwn.train(sentences=corpusOwn, epochs=5, total_examples=modelOwn.corpus_count)"
      ],
      "execution_count": null,
      "outputs": []
    },
    {
      "cell_type": "markdown",
      "metadata": {
        "id": "trrJqAeUWWmL"
      },
      "source": [
        "Now we copy word vectors and remove the model from memory (just to free up the resources...)"
      ]
    },
    {
      "cell_type": "code",
      "metadata": {
        "id": "h2GbyMw5WVZd"
      },
      "source": [
        "word_vectors_own = modelOwn.wv"
      ],
      "execution_count": null,
      "outputs": []
    },
    {
      "cell_type": "code",
      "metadata": {
        "id": "vjLyitW5Whff"
      },
      "source": [
        "del modelOwn"
      ],
      "execution_count": null,
      "outputs": []
    },
    {
      "cell_type": "markdown",
      "metadata": {
        "id": "q-ipjoSmWtOR"
      },
      "source": [
        "Now we can examine the output of our word embeddings"
      ]
    },
    {
      "cell_type": "code",
      "metadata": {
        "id": "ZUVomonLWzHM"
      },
      "source": [
        "# See the word vector for a particular word -- 'world'\n",
        "vector = word_vectors_own['աշխարհը']\n",
        "print(vector)"
      ],
      "execution_count": null,
      "outputs": []
    },
    {
      "cell_type": "code",
      "metadata": {
        "id": "ga4LQhZJXmYV"
      },
      "source": [
        "# See which words are closest to a given word in the vector space = 'world'\n",
        "similar_words = word_vectors_own.most_similar('աշխարհը', topn=10)\n",
        "print('\\n'.join([str(tup) for tup in similar_words]))"
      ],
      "execution_count": null,
      "outputs": []
    },
    {
      "cell_type": "code",
      "metadata": {
        "id": "9ECDUd8AXsF0"
      },
      "source": [
        "# blue\n",
        "similar_words = word_vectors_own.most_similar('կապույտ', topn=10) \n",
        "print('\\n'.join([str(tup) for tup in similar_words]))"
      ],
      "execution_count": null,
      "outputs": []
    },
    {
      "cell_type": "code",
      "metadata": {
        "id": "EKAl9NVdX8SM"
      },
      "source": [
        "# france\n",
        "similar_words = word_vectors_own.most_similar('ֆրանսիա', topn=10)\n",
        "print('\\n'.join([str(tup) for tup in similar_words]))"
      ],
      "execution_count": null,
      "outputs": []
    },
    {
      "cell_type": "code",
      "metadata": {
        "id": "492wftrxZRhR"
      },
      "source": [
        "# x is to king as woman is to man\n",
        "analogous_words = word_vectors_own.most_similar(negative=['մարդ'], positive=['թագավոր','կին'])\n",
        "print('\\n'.join([str(tup) for tup in analogous_words]))"
      ],
      "execution_count": null,
      "outputs": []
    },
    {
      "cell_type": "code",
      "metadata": {
        "id": "5HOugAyWbYCE"
      },
      "source": [
        "# x is to king as woman is to man\n",
        "# x = small + biggest - big\n",
        "# 𝑥−𝑣𝑒𝑐𝑡𝑜𝑟(′𝑠𝑚𝑎𝑙𝑙′)=𝑣𝑒𝑐𝑡𝑜𝑟(′𝑏𝑖𝑔𝑔𝑒𝑠𝑡′)−𝑣𝑒𝑐𝑡𝑜𝑟(′𝑏𝑖𝑔′) \n",
        "# ∴ 𝑥=𝑣𝑒𝑐𝑡𝑜𝑟(′𝑠𝑚𝑎𝑙𝑙′)+𝑣𝑒𝑐𝑡𝑜𝑟(′𝑏𝑖𝑔𝑔𝑒𝑠𝑡′)−𝑣𝑒𝑐𝑡𝑜𝑟(′𝑏𝑖𝑔′) \n",
        "# ∴ 𝑥=𝑣𝑒𝑐𝑡𝑜𝑟(′փոքր′)+𝑣𝑒𝑐𝑡𝑜𝑟(′ամենամեծը′)−𝑣𝑒𝑐𝑡𝑜𝑟(′մեծ′) \n",
        "analogous_words = word_vectors_own.most_similar(negative=['մեծ'], positive=['ամենամեծը','փոքր'])\n",
        "print('\\n'.join([str(tup) for tup in analogous_words]))"
      ],
      "execution_count": null,
      "outputs": []
    },
    {
      "cell_type": "code",
      "metadata": {
        "id": "Qz1h1O-MaY4J"
      },
      "source": [
        "# try your own examples... (also -- morphology?)\n",
        "# # x is to daughter as people is to person (plural + daughter)\n",
        "# analogous_words = word_vectors.most_similar(negative=['person'], positive=['people','daughter'])"
      ],
      "execution_count": null,
      "outputs": []
    }
  ]
}
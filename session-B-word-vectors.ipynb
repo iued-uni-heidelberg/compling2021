{
  "nbformat": 4,
  "nbformat_minor": 0,
  "metadata": {
    "language_info": {
      "codemirror_mode": {
        "name": "ipython",
        "version": 3
      },
      "file_extension": ".py",
      "mimetype": "text/x-python",
      "name": "python",
      "nbconvert_exporter": "python",
      "pygments_lexer": "ipython3",
      "version": "3.8.3"
    },
    "orig_nbformat": 4,
    "kernelspec": {
      "name": "python3",
      "display_name": "Python 3.8.3 64-bit"
    },
    "interpreter": {
      "hash": "aee8b7b246df8f9039afb4144a1f6fd8d2ca17a180786b69acc140d282b71a49"
    },
    "colab": {
      "name": "session-B-word-vectors.ipynb",
      "provenance": []
    }
  },
  "cells": [
    {
      "cell_type": "markdown",
      "metadata": {
        "id": "Ty2YWcLcvKl4"
      },
      "source": [
        "# Session 4: Word Vectors\n",
        "\n",
        "Word vectors (also known as 'word embeddings') are one of the most popular kinds of AI models. They are extremely useful in many domains. In essence, a word vector is a set of numbers that attempt to capture the meaning of a word. In typical implementations, each word is represented by a set of 200-300 numbers. In linear algebra, a one-dimensional array of numbers is known as a 'vector', hence these sets of numbers representing words' meanings are known as 'word vectors'.\n",
        "\n",
        "Using neural networks, we can expose the computer to a large amount of text, and allow it to learn an appropriate set of numbers for each word it encounters. In this notebook, we will learn about the most famous of all word vector algorithms, `word2vec`, which was first described by Tomas Mikolov and his team in 2013:\n",
        "\n",
        "* Tomas Mikolov, Ilya Sutskever, and others, ‘Distributed Representations of Words and Phrases and Their Compositionality’, in Advances in Neural Information Processing Systems 26, ed. by C. J. C. Burges and others (Curran Associates, Inc., 2013), pp. 3111–19 <http://papers.nips.cc/paper/5021-distributed-representations-of-words-and-phrases-and-their-compositionality.pdf>\n",
        "* Tomas Mikolov, Kai Chen, and others, ‘Efficient Estimation of Word Representations in Vector Space’, ArXiv:1301.3781 Cs, 2013 <http://arxiv.org/abs/1301.3781>.\n",
        "\n",
        "In fact, `word2vec` is not a single algorithm, but rather a family of similar algorithms. In this session we will consider just the most famous `word2vec` algorithm, namely the `skip-gram model` trained using `negative sampling`."
      ]
    },
    {
      "cell_type": "markdown",
      "metadata": {
        "id": "SWLKKQ0lvKl5"
      },
      "source": [
        "## Applications of Word Vectors\n",
        "\n",
        "Word vectors allow the computer to 'understand' language far more effectively. Rather than seeing each word as simply an arbitrarily different object, a computer using word vectors can analyse each word as a point in 200- or 300-dimenstional space. Words that are similar in meaning will have similar word vectors. And as we will see, the spaces between the word vectors are also significant: the words are arranged in patterns that represent their relationships to one another.\n",
        "\n",
        "Accordingly, most AI systems that process language now include a word vector layer as part of their architecure. When the system encounters some text (e.g. when you speak to Siri or Alexa), your words are converted into word vectors, *and then* the computer examines what the text says and determines how it should respond.\n",
        "\n",
        "In the Humanities, word vectors have become a popular modelling tool, because they allow researchers to perform sophisticated analysis on large corpora of text. Some examples include:\n",
        "\n",
        "* [The Women Writers Vector Toolkit](https://wwp.northeastern.edu/lab/wwvt/index.html)\n",
        "* William L. Hamilton, Jure Leskovec, and Dan Jurafsky, ‘Diachronic Word Embeddings Reveal Statistical Laws of Semantic Change’, ArXiv:1605.09096 [Cs], 2018 <http://arxiv.org/abs/1605.09096>.\n",
        "* Ryan Heuser, 'Semantic Networks' <https://ryanheuser.org/word-vectors-4/>"
      ]
    },
    {
      "cell_type": "markdown",
      "metadata": {
        "id": "o4ZWncLevKl5"
      },
      "source": [
        "## Training a `word2vec` model in Gensim\n",
        "\n",
        "It is very easy to train a `word2vec` model in Gensim, which includes Mikolov's original `word2vec` code in its codebase."
      ]
    },
    {
      "cell_type": "code",
      "metadata": {
        "id": "QgedLV80vKl6",
        "outputId": "147a27cf-eccc-4d71-ea89-04034dfeb364",
        "colab": {
          "base_uri": "https://localhost:8080/"
        }
      },
      "source": [
        "from gensim.models import Word2Vec # The word2vec model class\n",
        "import gensim.downloader as api # Allows us to download some free training data\n",
        "corpus = api.load('text8')\n",
        "# api.info()"
      ],
      "execution_count": 1,
      "outputs": [
        {
          "output_type": "stream",
          "text": [
            "[==================================================] 100.0% 31.6/31.6MB downloaded\n"
          ],
          "name": "stdout"
        }
      ]
    },
    {
      "cell_type": "markdown",
      "metadata": {
        "id": "nvSxGbYN8aHr"
      },
      "source": [
        "text8 is first 100MB from English wikipedia, 17 million words\n",
        "\n",
        "The file is downloadable from \n",
        "http://mattmahoney.net/dc/text8.zip\n"
      ]
    },
    {
      "cell_type": "code",
      "metadata": {
        "id": "GOfGR4GVxzIY",
        "outputId": "7391a5fd-788d-4534-c869-eaf2415008d9",
        "colab": {
          "base_uri": "https://localhost:8080/"
        }
      },
      "source": [
        "# Examine the corpus to see what is there\n",
        "api.info(\"text8\")"
      ],
      "execution_count": 2,
      "outputs": [
        {
          "output_type": "execute_result",
          "data": {
            "text/plain": [
              "{'checksum': '68799af40b6bda07dfa47a32612e5364',\n",
              " 'description': 'First 100,000,000 bytes of plain text from Wikipedia. Used for testing purposes; see wiki-english-* for proper full Wikipedia datasets.',\n",
              " 'file_name': 'text8.gz',\n",
              " 'file_size': 33182058,\n",
              " 'license': 'not found',\n",
              " 'num_records': 1701,\n",
              " 'parts': 1,\n",
              " 'read_more': ['http://mattmahoney.net/dc/textdata.html'],\n",
              " 'reader_code': 'https://github.com/RaRe-Technologies/gensim-data/releases/download/text8/__init__.py',\n",
              " 'record_format': 'list of str (tokens)'}"
            ]
          },
          "metadata": {
            "tags": []
          },
          "execution_count": 2
        }
      ]
    },
    {
      "cell_type": "code",
      "metadata": {
        "id": "hNRnUeEDzJS8",
        "outputId": "7ce8fc23-196a-4453-f1fa-9ad26fa4ca2c",
        "colab": {
          "base_uri": "https://localhost:8080/"
        }
      },
      "source": [
        "type(corpus)"
      ],
      "execution_count": 10,
      "outputs": [
        {
          "output_type": "execute_result",
          "data": {
            "text/plain": [
              "text8.Dataset"
            ]
          },
          "metadata": {
            "tags": []
          },
          "execution_count": 10
        }
      ]
    },
    {
      "cell_type": "code",
      "metadata": {
        "id": "dlSD09Qoz_6t"
      },
      "source": [
        "data = [d for d in corpus]"
      ],
      "execution_count": 11,
      "outputs": []
    },
    {
      "cell_type": "code",
      "metadata": {
        "id": "wyeDslt-26E2",
        "colab": {
          "base_uri": "https://localhost:8080/"
        },
        "outputId": "8ffc9729-ace2-48a6-9d06-9d180eb6668b"
      },
      "source": [
        "len(data)"
      ],
      "execution_count": 6,
      "outputs": [
        {
          "output_type": "execute_result",
          "data": {
            "text/plain": [
              "1701"
            ]
          },
          "metadata": {
            "tags": []
          },
          "execution_count": 6
        }
      ]
    },
    {
      "cell_type": "code",
      "metadata": {
        "id": "TUQzkxNbyTEF",
        "outputId": "a11c832e-7495-4ceb-d611-ce16f5a4b87a",
        "colab": {
          "base_uri": "https://localhost:8080/"
        }
      },
      "source": [
        "len(data[0])"
      ],
      "execution_count": 7,
      "outputs": [
        {
          "output_type": "execute_result",
          "data": {
            "text/plain": [
              "10000"
            ]
          },
          "metadata": {
            "tags": []
          },
          "execution_count": 7
        }
      ]
    },
    {
      "cell_type": "code",
      "metadata": {
        "id": "sEmirZe2yR9y",
        "outputId": "1f8a9a55-53bf-4463-d2ed-4cb3fd834a98",
        "colab": {
          "base_uri": "https://localhost:8080/"
        }
      },
      "source": [
        "print(data[0][:100])"
      ],
      "execution_count": 8,
      "outputs": [
        {
          "output_type": "stream",
          "text": [
            "['anarchism', 'originated', 'as', 'a', 'term', 'of', 'abuse', 'first', 'used', 'against', 'early', 'working', 'class', 'radicals', 'including', 'the', 'diggers', 'of', 'the', 'english', 'revolution', 'and', 'the', 'sans', 'culottes', 'of', 'the', 'french', 'revolution', 'whilst', 'the', 'term', 'is', 'still', 'used', 'in', 'a', 'pejorative', 'way', 'to', 'describe', 'any', 'act', 'that', 'used', 'violent', 'means', 'to', 'destroy', 'the', 'organization', 'of', 'society', 'it', 'has', 'also', 'been', 'taken', 'up', 'as', 'a', 'positive', 'label', 'by', 'self', 'defined', 'anarchists', 'the', 'word', 'anarchism', 'is', 'derived', 'from', 'the', 'greek', 'without', 'archons', 'ruler', 'chief', 'king', 'anarchism', 'as', 'a', 'political', 'philosophy', 'is', 'the', 'belief', 'that', 'rulers', 'are', 'unnecessary', 'and', 'should', 'be', 'abolished', 'although', 'there', 'are', 'differing']\n"
          ],
          "name": "stdout"
        }
      ]
    },
    {
      "cell_type": "code",
      "metadata": {
        "id": "YkvbCylDyZF_",
        "outputId": "15014516-29a7-450d-ff8d-d71fa610aa6e",
        "colab": {
          "base_uri": "https://localhost:8080/"
        }
      },
      "source": [
        "print(data[1][:100])"
      ],
      "execution_count": 9,
      "outputs": [
        {
          "output_type": "stream",
          "text": [
            "['reciprocity', 'qualitative', 'impairments', 'in', 'communication', 'as', 'manifested', 'by', 'at', 'least', 'one', 'of', 'the', 'following', 'delay', 'in', 'or', 'total', 'lack', 'of', 'the', 'development', 'of', 'spoken', 'language', 'not', 'accompanied', 'by', 'an', 'attempt', 'to', 'compensate', 'through', 'alternative', 'modes', 'of', 'communication', 'such', 'as', 'gesture', 'or', 'mime', 'in', 'individuals', 'with', 'adequate', 'speech', 'marked', 'impairment', 'in', 'the', 'ability', 'to', 'initiate', 'or', 'sustain', 'a', 'conversation', 'with', 'others', 'stereotyped', 'and', 'repetitive', 'use', 'of', 'language', 'or', 'idiosyncratic', 'language', 'lack', 'of', 'varied', 'spontaneous', 'make', 'believe', 'play', 'or', 'social', 'imitative', 'play', 'appropriate', 'to', 'developmental', 'level', 'restricted', 'repetitive', 'and', 'stereotyped', 'patterns', 'of', 'behavior', 'interests', 'and', 'activities', 'as', 'manifested', 'by', 'at', 'least', 'one']\n"
          ],
          "name": "stdout"
        }
      ]
    },
    {
      "cell_type": "markdown",
      "metadata": {
        "id": "_eEjBCxovKl6"
      },
      "source": [
        "### Step 1: Set hyperparameters and instantiate model"
      ]
    },
    {
      "cell_type": "code",
      "metadata": {
        "id": "K9MC27DDvKl6"
      },
      "source": [
        "vector_size = 100 # Dimensionality of the word vectors\n",
        "window = 5 # How many words either side? (5 = 5 context words either side, i.e. 10 context words in total)\n",
        "use_skip_gram = 1 # If you set this to 0, then it will create a 'continuous bag of words' model instead\n",
        "use_softmax = 0 # If you set this to 1, then hierarchical softmax will be used instead of negative sampling\n",
        "negative_samples = 5 # How many incorrect answers to generate per correct answer when negative sampling\n",
        "\n",
        "model = Word2Vec(\n",
        "    size=vector_size,\n",
        "    window=window,\n",
        "    sg=use_skip_gram,\n",
        "    hs=use_softmax,\n",
        "    negative=negative_samples\n",
        ")"
      ],
      "execution_count": 12,
      "outputs": []
    },
    {
      "cell_type": "markdown",
      "metadata": {
        "id": "ofhbkdEjvKl7"
      },
      "source": [
        "### Step 2: Fit model to corpus"
      ]
    },
    {
      "cell_type": "code",
      "metadata": {
        "id": "cEieLoWlvKl7"
      },
      "source": [
        "# build a model\n",
        "model.build_vocab(corpus)"
      ],
      "execution_count": 13,
      "outputs": []
    },
    {
      "cell_type": "code",
      "metadata": {
        "id": "8e_ijem9vKl7",
        "outputId": "48306b80-fb7a-456f-d745-d66687d39d3b",
        "colab": {
          "base_uri": "https://localhost:8080/"
        }
      },
      "source": [
        "# Train the model on the corpus\n",
        "model.train(sentences=corpus, epochs=5, total_examples=model.corpus_count)"
      ],
      "execution_count": 14,
      "outputs": [
        {
          "output_type": "execute_result",
          "data": {
            "text/plain": [
              "(62532758, 85026035)"
            ]
          },
          "metadata": {
            "tags": []
          },
          "execution_count": 14
        }
      ]
    },
    {
      "cell_type": "markdown",
      "metadata": {
        "id": "ThYRouIevKl8"
      },
      "source": [
        "### Step 3: Extract word vectors from model\n",
        "\n",
        "The fully trained model includes all of the weights used to predict the context words for each input word. If you are not planning on training the model further, these weights can be discarded, and you can just keep the weights for the word vectors."
      ]
    },
    {
      "cell_type": "code",
      "metadata": {
        "id": "4V0LfNx_vKl8"
      },
      "source": [
        "word_vectors = model.wv\n",
        "del model # Delete the whole model to free up the computer's RAM"
      ],
      "execution_count": 15,
      "outputs": []
    },
    {
      "cell_type": "markdown",
      "metadata": {
        "id": "zSkZD22AvKl8"
      },
      "source": [
        "### Step 4: Have a play with the model\n",
        "\n",
        "There are several ways you can use word vectors. One of the most famous is to use them to compute analogies. The formula is:\n",
        "\n",
        "<center><em>x</em> is to <em>small</em> as <em>biggest</em> is to <em>big</em></center>\n",
        "\n",
        "$$x - vector('small') = vector('biggest') - vector('big')$$\n",
        "\n",
        "$$\\therefore x = vector('small') + vector('biggest') - vector('big')$$"
      ]
    },
    {
      "cell_type": "code",
      "metadata": {
        "id": "2Pftv0DEvKl8",
        "outputId": "b269f43a-a30a-4c1e-f156-6b799daa336c",
        "colab": {
          "base_uri": "https://localhost:8080/"
        }
      },
      "source": [
        "# See the word vector for a particular word\n",
        "vector = word_vectors['banana']\n",
        "print(vector)"
      ],
      "execution_count": 16,
      "outputs": [
        {
          "output_type": "stream",
          "text": [
            "[ 0.08057743 -0.37878227  0.11396107  0.14235406 -0.2552257  -0.04763536\n",
            " -0.08588961  0.01662323  0.46558335 -0.50837046  0.30185136 -0.06098369\n",
            " -0.418174    0.13988963 -0.10220706  0.15339582  0.38421425  0.21753767\n",
            " -0.26462123 -0.33933952  0.28586322  0.11846864  0.3968051  -0.16568922\n",
            " -0.22783485  0.36126766 -0.22072391  0.16978219  0.5335923   0.18782915\n",
            "  0.60121    -0.36147678 -0.02602972  0.14496188 -0.17212881 -0.24069406\n",
            " -0.29610342 -0.32738495 -0.1662697  -0.38284692  0.01360897  0.06235801\n",
            "  0.15124774 -0.8239667   0.2916196   0.04945309  0.65051603  0.46133086\n",
            " -0.09078005  0.24386574 -0.04115861 -0.1900839  -0.5249951   0.10927019\n",
            " -0.2982055   0.14596453 -0.47051612 -0.11326216 -0.14202902 -0.25076422\n",
            " -0.24767946 -0.07321762 -0.7660264  -0.3274344   0.18505608  0.18432108\n",
            " -0.6316265  -0.0014289   0.10793305 -0.05339458 -0.1794082  -0.15424067\n",
            "  0.5362082   0.49607205 -0.00949856 -0.24278763  0.28570586  0.6374683\n",
            "  0.10907999  0.17071956  0.1159452  -0.31039122 -0.3783787   0.2932469\n",
            "  0.18267281 -0.23447612 -0.07923921  0.19721912  0.12407014 -0.00236517\n",
            " -0.5951328  -0.3973659  -0.22402805  0.04928925 -0.22695115 -0.0682821\n",
            "  0.11149199 -0.09870672 -0.25566056 -0.34860775]\n"
          ],
          "name": "stdout"
        }
      ]
    },
    {
      "cell_type": "code",
      "metadata": {
        "id": "8_qUSF7ZvKl9",
        "outputId": "fc5bfb26-6059-4e0a-ac3e-159d1e1abe79",
        "colab": {
          "base_uri": "https://localhost:8080/"
        }
      },
      "source": [
        "# See which words are closest to a given word in the vector space\n",
        "similar_words = word_vectors.most_similar('university', topn=10)\n",
        "print('\\n'.join([str(tup) for tup in similar_words]))"
      ],
      "execution_count": 21,
      "outputs": [
        {
          "output_type": "stream",
          "text": [
            "('college', 0.8302913904190063)\n",
            "('urbana', 0.776872992515564)\n",
            "('polytechnic', 0.7725688219070435)\n",
            "('institute', 0.7647371292114258)\n",
            "('champaign', 0.7477920055389404)\n",
            "('cambridge', 0.7369121313095093)\n",
            "('yale', 0.7320483922958374)\n",
            "('polytechnical', 0.7319600582122803)\n",
            "('rutgers', 0.7314851880073547)\n",
            "('johns', 0.7283385396003723)\n"
          ],
          "name": "stdout"
        }
      ]
    },
    {
      "cell_type": "code",
      "metadata": {
        "id": "T38xLSz62OyK",
        "outputId": "7d2a2e7b-e78a-4ab3-e908-49663d1cc0fc",
        "colab": {
          "base_uri": "https://localhost:8080/"
        }
      },
      "source": [
        "# See which words are closest to a given word in the vector space\n",
        "similar_words = word_vectors.most_similar('red', topn=10)\n",
        "print('\\n'.join([str(tup) for tup in similar_words]))"
      ],
      "execution_count": 22,
      "outputs": [
        {
          "output_type": "stream",
          "text": [
            "('yellow', 0.8184937238693237)\n",
            "('white', 0.8159852623939514)\n",
            "('blue', 0.8070787191390991)\n",
            "('green', 0.7698606848716736)\n",
            "('purple', 0.7313545346260071)\n",
            "('black', 0.7292963862419128)\n",
            "('stripes', 0.7009953856468201)\n",
            "('jerseys', 0.6800992488861084)\n",
            "('colored', 0.6640898585319519)\n",
            "('sash', 0.6634660959243774)\n"
          ],
          "name": "stdout"
        }
      ]
    },
    {
      "cell_type": "code",
      "metadata": {
        "id": "wvyAmb152SMD",
        "outputId": "84478838-67cb-4cf0-bcae-c8751f6dacad",
        "colab": {
          "base_uri": "https://localhost:8080/"
        }
      },
      "source": [
        "# See which words are closest to a given word in the vector space\n",
        "similar_words = word_vectors.most_similar('brussels', topn=10)\n",
        "print('\\n'.join([str(tup) for tup in similar_words]))"
      ],
      "execution_count": 27,
      "outputs": [
        {
          "output_type": "stream",
          "text": [
            "('maastricht', 0.7439447641372681)\n",
            "('bruges', 0.7427038550376892)\n",
            "('aachen', 0.7381912469863892)\n",
            "('amsterdam', 0.737143337726593)\n",
            "('ghent', 0.7288802266120911)\n",
            "('strasbourg', 0.7250431180000305)\n",
            "('frankfurt', 0.7092779874801636)\n",
            "('rotterdam', 0.7078688144683838)\n",
            "('bonn', 0.7050737142562866)\n",
            "('bordeaux', 0.7041142582893372)\n"
          ],
          "name": "stdout"
        }
      ]
    },
    {
      "cell_type": "code",
      "metadata": {
        "id": "r68SeidU2lRz",
        "outputId": "db6076d5-6512-42d1-bd80-4aeeeadcd37e",
        "colab": {
          "base_uri": "https://localhost:8080/"
        }
      },
      "source": [
        "# See which words are closest to a given word in the vector space\n",
        "similar_words = word_vectors.most_similar('germany', topn=10)\n",
        "print('\\n'.join([str(tup) for tup in similar_words]))"
      ],
      "execution_count": 28,
      "outputs": [
        {
          "output_type": "stream",
          "text": [
            "('austria', 0.8248653411865234)\n",
            "('italy', 0.7685587406158447)\n",
            "('belgium', 0.7650684714317322)\n",
            "('switzerland', 0.7640849351882935)\n",
            "('hungary', 0.7583723068237305)\n",
            "('poland', 0.7563267946243286)\n",
            "('netherlands', 0.7454272508621216)\n",
            "('berlin', 0.7384282350540161)\n",
            "('finland', 0.7346256375312805)\n",
            "('denmark', 0.7233068943023682)\n"
          ],
          "name": "stdout"
        }
      ]
    },
    {
      "cell_type": "code",
      "metadata": {
        "id": "6RVNTkIs2thF",
        "outputId": "a53d6463-5329-4e44-eed9-331e5dde2ad7",
        "colab": {
          "base_uri": "https://localhost:8080/"
        }
      },
      "source": [
        "# See which words are closest to a given word in the vector space\n",
        "similar_words = word_vectors.most_similar('strange', topn=10)\n",
        "print('\\n'.join([str(tup) for tup in similar_words]))"
      ],
      "execution_count": 29,
      "outputs": [
        {
          "output_type": "stream",
          "text": [
            "('mysterious', 0.6952362656593323)\n",
            "('fictionalised', 0.6614861488342285)\n",
            "('kitten', 0.6589220762252808)\n",
            "('scary', 0.6574631929397583)\n",
            "('snowman', 0.6556798815727234)\n",
            "('hideous', 0.6534916758537292)\n",
            "('awful', 0.6533659100532532)\n",
            "('hilarious', 0.6519839763641357)\n",
            "('surreal', 0.6514548063278198)\n",
            "('apparitions', 0.6504389047622681)\n"
          ],
          "name": "stdout"
        }
      ]
    },
    {
      "cell_type": "code",
      "metadata": {
        "id": "2Oqwf3ni21zW",
        "outputId": "b13527af-e39b-4dc7-8a2f-8f7b0e762021",
        "colab": {
          "base_uri": "https://localhost:8080/"
        }
      },
      "source": [
        "# Compute analogous words\n",
        "# E.g. x is to queen as man is to king => x = v('queen') + v('man') - v('king')\n",
        "analogous_words = word_vectors.most_similar(negative=['man'], positive=['king','woman'])\n",
        "print('\\n'.join([str(tup) for tup in analogous_words]))"
      ],
      "execution_count": 30,
      "outputs": [
        {
          "output_type": "stream",
          "text": [
            "('queen', 0.6321631669998169)\n",
            "('throne', 0.6140472888946533)\n",
            "('sigismund', 0.6035372018814087)\n",
            "('daughter', 0.6032637357711792)\n",
            "('olympias', 0.6022640466690063)\n",
            "('prince', 0.6015709638595581)\n",
            "('dowager', 0.59840989112854)\n",
            "('marries', 0.5950711369514465)\n",
            "('wenceslaus', 0.5947388410568237)\n",
            "('isabella', 0.5926554203033447)\n"
          ],
          "name": "stdout"
        }
      ]
    },
    {
      "cell_type": "code",
      "metadata": {
        "id": "0sVv80bYvKl9",
        "outputId": "ff750fc2-2630-49b5-959f-12c9b8395628",
        "colab": {
          "base_uri": "https://localhost:8080/"
        }
      },
      "source": [
        "# Compute analogous words\n",
        "# E.g. x is to queen as man is to king => x = v('queen') + v('man') - v('king')\n",
        "analogous_words = word_vectors.most_similar(negative=['king'], positive=['queen','man'])\n",
        "print('\\n'.join([str(tup) for tup in analogous_words]))"
      ],
      "execution_count": 31,
      "outputs": [
        {
          "output_type": "stream",
          "text": [
            "('woman', 0.6597509980201721)\n",
            "('frail', 0.5844504833221436)\n",
            "('girl', 0.5768628120422363)\n",
            "('blonde', 0.5707680583000183)\n",
            "('prostitute', 0.5689617395401001)\n",
            "('totoro', 0.5675539970397949)\n",
            "('loving', 0.5577417612075806)\n",
            "('gentleman', 0.552753210067749)\n",
            "('ladies', 0.5510775446891785)\n",
            "('pygmalion', 0.5509780645370483)\n"
          ],
          "name": "stdout"
        }
      ]
    },
    {
      "cell_type": "code",
      "metadata": {
        "id": "q8gfHhZf3Byi",
        "outputId": "ed8b237e-88ac-4a03-8ba2-2e976b0cd58b",
        "colab": {
          "base_uri": "https://localhost:8080/"
        }
      },
      "source": [
        "# Compute analogous words\n",
        "# E.g. x is to queen as man is to king => x = v('queen') + v('man') - v('king')\n",
        "analogous_words = word_vectors.most_similar(negative=['mother'], positive=['father','daughter'])\n",
        "print('\\n'.join([str(tup) for tup in analogous_words]))"
      ],
      "execution_count": 34,
      "outputs": [
        {
          "output_type": "stream",
          "text": [
            "('son', 0.8452534675598145)\n",
            "('brother', 0.7582974433898926)\n",
            "('cousin', 0.7579344511032104)\n",
            "('nephew', 0.7464486956596375)\n",
            "('eldest', 0.743414044380188)\n",
            "('wife', 0.7388955354690552)\n",
            "('grandson', 0.7323840856552124)\n",
            "('confidant', 0.7276127338409424)\n",
            "('granddaughter', 0.7237993478775024)\n",
            "('olympias', 0.7098314166069031)\n"
          ],
          "name": "stdout"
        }
      ]
    },
    {
      "cell_type": "code",
      "metadata": {
        "id": "IuzURZa_6hQC",
        "outputId": "68d1c1db-aebf-451c-92ad-5e76613bf781",
        "colab": {
          "base_uri": "https://localhost:8080/"
        }
      },
      "source": [
        "# Compute analogous words\n",
        "# E.g. x is to queen as man is to king => x = v('queen') + v('man') - v('king')\n",
        "analogous_words = word_vectors.most_similar(negative=['mother'], positive=['father','girl'])\n",
        "print('\\n'.join([str(tup) for tup in analogous_words]))"
      ],
      "execution_count": 36,
      "outputs": [
        {
          "output_type": "stream",
          "text": [
            "('boy', 0.6801096200942993)\n",
            "('bartender', 0.6520256996154785)\n",
            "('man', 0.6491988897323608)\n",
            "('boys', 0.6477783918380737)\n",
            "('mister', 0.6474010348320007)\n",
            "('ziegfeld', 0.6331601142883301)\n",
            "('totoro', 0.6317894458770752)\n",
            "('ugly', 0.6317366361618042)\n",
            "('kid', 0.6297487616539001)\n",
            "('naughty', 0.6279672980308533)\n"
          ],
          "name": "stdout"
        }
      ]
    },
    {
      "cell_type": "code",
      "metadata": {
        "id": "PzzlKdei6uiW",
        "outputId": "72783a09-70d0-49a5-fba0-790201e7b991",
        "colab": {
          "base_uri": "https://localhost:8080/"
        }
      },
      "source": [
        "# Compute analogous words\n",
        "# E.g. x is to queen as man is to king => x = v('queen') + v('man') - v('king')\n",
        "analogous_words = word_vectors.most_similar(negative=['person'], positive=['people','daughter'])\n",
        "print('\\n'.join([str(tup) for tup in analogous_words]))"
      ],
      "execution_count": 38,
      "outputs": [
        {
          "output_type": "stream",
          "text": [
            "('daughters', 0.6616181135177612)\n",
            "('sons', 0.593657910823822)\n",
            "('eleonora', 0.5934041738510132)\n",
            "('parents', 0.5883336663246155)\n",
            "('mother', 0.5797499418258667)\n",
            "('sister', 0.5784984827041626)\n",
            "('sisters', 0.5775691270828247)\n",
            "('alexandra', 0.5699713230133057)\n",
            "('simeon', 0.5699524879455566)\n",
            "('brothers', 0.5695198774337769)\n"
          ],
          "name": "stdout"
        }
      ]
    },
    {
      "cell_type": "code",
      "metadata": {
        "id": "_XiIkbYL65vn"
      },
      "source": [
        ""
      ],
      "execution_count": null,
      "outputs": []
    },
    {
      "cell_type": "markdown",
      "metadata": {
        "id": "22fSc-iyvKl9"
      },
      "source": [
        "## Using pre-trained models in Gensim\n",
        "\n",
        "In many applications, you will simply want access to pre-trained word vectors (e.g. for plugging in to another model you are training). If you don't need the vectors to be tailored closely to your particular corpus, then you might like to use some pretrained models.\n",
        "\n",
        "`word2vec` is not the only word embedding family of algorithms. Another, arguably even more powerful algorithm is the `FastText` algorithm, which Mikolov developed after moving to Facebook:\n",
        "\n",
        "* Piotr Bojanowski and others, ‘Enriching Word Vectors with Subword Information’, ArXiv:1607.04606, 2017 <http://arxiv.org/abs/1607.04606>.\n",
        "\n",
        "Instead of computing word vectors for each word, FastText splits each word into its constituent chunks. For example, 'cat' would be split into 'c', 'a', 't', 'ca', 'at' and 'cat', and 'burp' would be split into 'b', 'u', 'r', 'p', 'bu', 'ur', 'rp', 'bur', 'urp' and 'burp'. Then a vector is computer for each chunk that appears in the corpus. Each word is represented as the mean of all the chunks that make it up. FastText is able to learn very good word vectors because it can extract meaning from subword units, e.g. it can see that 'television', 'telegraph' and 'telepathy' all have 'tele' at the front, and can see that 'formality', 'criminality' and 'paucity' share subword units such as 'al' and 'ity'.\n",
        "\n",
        "You can access many pretrained models using the Gensim downloader. Using the cells below, you can try out some of the different models available through Gensim. Along with `word2vec` and `FastText`, Gensim also supports `Glove` and `Doc2Vec` models.\n",
        "\n",
        "**NB:** These trained models are very large, and will take a while to download. You may wish to download this notebook and execute the cells below on your own machine, in case Google kicks you out of the Colab environment."
      ]
    },
    {
      "cell_type": "code",
      "metadata": {
        "id": "rldVE5pmvKl-",
        "outputId": "5a228b6c-a510-43f5-faae-25a9fdcaa73c",
        "colab": {
          "base_uri": "https://localhost:8080/"
        }
      },
      "source": [
        "# See what models are on offer\n",
        "print(list(api.info()['models'].keys()))"
      ],
      "execution_count": 39,
      "outputs": [
        {
          "output_type": "stream",
          "text": [
            "['fasttext-wiki-news-subwords-300', 'conceptnet-numberbatch-17-06-300', 'word2vec-ruscorpora-300', 'word2vec-google-news-300', 'glove-wiki-gigaword-50', 'glove-wiki-gigaword-100', 'glove-wiki-gigaword-200', 'glove-wiki-gigaword-300', 'glove-twitter-25', 'glove-twitter-50', 'glove-twitter-100', 'glove-twitter-200', '__testing_word2vec-matrix-synopsis']\n"
          ],
          "name": "stdout"
        }
      ]
    },
    {
      "cell_type": "code",
      "metadata": {
        "id": "nMTAxneZ7OaZ"
      },
      "source": [
        "# Optional! THIS WILL TAKE SOME TIME!!!\n",
        "# 300-dimensional word vectors trained on a huge dataset from Google News\n",
        "google_news_w2v = api.load('word2vec-google-news-300')"
      ],
      "execution_count": null,
      "outputs": []
    },
    {
      "cell_type": "code",
      "metadata": {
        "id": "uTKwcm_7vKl-"
      },
      "source": [
        "# x is to Kenya as Canberra is to Australia\n",
        "google_news_w2v.similar_words(negative=['australia'],positive=['kenya','canberra'], topn=10)"
      ],
      "execution_count": null,
      "outputs": []
    },
    {
      "cell_type": "code",
      "metadata": {
        "id": "mPZl6qzEvKl-"
      },
      "source": [
        "# Optional! THIS WILL TAKE SOME TIME!!!\n",
        "# Facebook's own FastText vectors, trained on Wikipedia\n",
        "wikipedia_fasttext = api.load('fasttext-wiki-news-subwords-300')"
      ],
      "execution_count": null,
      "outputs": []
    },
    {
      "cell_type": "code",
      "metadata": {
        "id": "w4xj0CGQ7iFg"
      },
      "source": [
        "# x is to Wharton as London is to Dickens\n",
        "wikipedia_fasttext.similar_words(negative=['dickens'],positive=['wharton','london'], topn=10)"
      ],
      "execution_count": null,
      "outputs": []
    },
    {
      "cell_type": "markdown",
      "metadata": {
        "id": "NqVFfYx878cA"
      },
      "source": [
        "## Training an Armenian model\n",
        "\n",
        "Now let's train a model on our own corpus. You can try to create Armenian / Ukrainian / Russian word vector model\n",
        "\n",
        "Armenian, Ukrainian, Russian plaintext wikipedias are available at:\n",
        "https://lindat.mff.cuni.cz/repository/xmlui/handle/11234/1-2735#\n",
        "\n",
        "We can use the same size ~15 Million Words, (200MB) of these corpora to make sure the model is built within a reasonable time; however, when you have more time, you can try a more complete corpus.\n",
        "\n",
        "It is possible to download/unzip/upload the files manually, however, it is faster to automatically load them directly from Heidelberg server space https://heibox.uni-heidelberg.de/d/42a07c9e95774e099a81/  into your colab environment. To do this run the following cells\n"
      ]
    }
  ]
}
{
  "nbformat": 4,
  "nbformat_minor": 0,
  "metadata": {
    "language_info": {
      "codemirror_mode": {
        "name": "ipython",
        "version": 3
      },
      "file_extension": ".py",
      "mimetype": "text/x-python",
      "name": "python",
      "nbconvert_exporter": "python",
      "pygments_lexer": "ipython3",
      "version": "3.8.3"
    },
    "orig_nbformat": 4,
    "kernelspec": {
      "name": "python3",
      "display_name": "Python 3.8.3 64-bit"
    },
    "interpreter": {
      "hash": "aee8b7b246df8f9039afb4144a1f6fd8d2ca17a180786b69acc140d282b71a49"
    },
    "colab": {
      "name": "session-B-word-vectors.ipynb",
      "provenance": []
    }
  },
  "cells": [
    {
      "cell_type": "markdown",
      "metadata": {
        "id": "Ty2YWcLcvKl4"
      },
      "source": [
        "# Session 4: Word Vectors\n",
        "\n",
        "Word vectors (also known as 'word embeddings') are one of the most popular kinds of AI models. They are extremely useful in many domains. In essence, a word vector is a set of numbers that attempt to capture the meaning of a word. In typical implementations, each word is represented by a set of 200-300 numbers. In linear algebra, a one-dimensional array of numbers is known as a 'vector', hence these sets of numbers representing words' meanings are known as 'word vectors'.\n",
        "\n",
        "Using neural networks, we can expose the computer to a large amount of text, and allow it to learn an appropriate set of numbers for each word it encounters. In this notebook, we will learn about the most famous of all word vector algorithms, `word2vec`, which was first described by Tomas Mikolov and his team in 2013:\n",
        "\n",
        "* Tomas Mikolov, Ilya Sutskever, and others, ‘Distributed Representations of Words and Phrases and Their Compositionality’, in Advances in Neural Information Processing Systems 26, ed. by C. J. C. Burges and others (Curran Associates, Inc., 2013), pp. 3111–19 <http://papers.nips.cc/paper/5021-distributed-representations-of-words-and-phrases-and-their-compositionality.pdf>\n",
        "* Tomas Mikolov, Kai Chen, and others, ‘Efficient Estimation of Word Representations in Vector Space’, ArXiv:1301.3781 Cs, 2013 <http://arxiv.org/abs/1301.3781>.\n",
        "\n",
        "In fact, `word2vec` is not a single algorithm, but rather a family of similar algorithms. In this session we will consider just the most famous `word2vec` algorithm, namely the `skip-gram model` trained using `negative sampling`."
      ]
    },
    {
      "cell_type": "markdown",
      "metadata": {
        "id": "SWLKKQ0lvKl5"
      },
      "source": [
        "## Applications of Word Vectors\n",
        "\n",
        "Word vectors allow the computer to 'understand' language far more effectively. Rather than seeing each word as simply an arbitrarily different object, a computer using word vectors can analyse each word as a point in 200- or 300-dimenstional space. Words that are similar in meaning will have similar word vectors. And as we will see, the spaces between the word vectors are also significant: the words are arranged in patterns that represent their relationships to one another.\n",
        "\n",
        "Accordingly, most AI systems that process language now include a word vector layer as part of their architecure. When the system encounters some text (e.g. when you speak to Siri or Alexa), your words are converted into word vectors, *and then* the computer examines what the text says and determines how it should respond.\n",
        "\n",
        "In the Humanities, word vectors have become a popular modelling tool, because they allow researchers to perform sophisticated analysis on large corpora of text. Some examples include:\n",
        "\n",
        "* [The Women Writers Vector Toolkit](https://wwp.northeastern.edu/lab/wwvt/index.html)\n",
        "* William L. Hamilton, Jure Leskovec, and Dan Jurafsky, ‘Diachronic Word Embeddings Reveal Statistical Laws of Semantic Change’, ArXiv:1605.09096 [Cs], 2018 <http://arxiv.org/abs/1605.09096>.\n",
        "* Ryan Heuser, 'Semantic Networks' <https://ryanheuser.org/word-vectors-4/>"
      ]
    },
    {
      "cell_type": "markdown",
      "metadata": {
        "id": "o4ZWncLevKl5"
      },
      "source": [
        "## Training a `word2vec` model in Gensim\n",
        "\n",
        "It is very easy to train a `word2vec` model in Gensim, which includes Mikolov's original `word2vec` code in its codebase."
      ]
    },
    {
      "cell_type": "code",
      "metadata": {
        "id": "QgedLV80vKl6",
        "colab": {
          "base_uri": "https://localhost:8080/"
        },
        "outputId": "147a27cf-eccc-4d71-ea89-04034dfeb364"
      },
      "source": [
        "from gensim.models import Word2Vec # The word2vec model class\n",
        "import gensim.downloader as api # Allows us to download some free training data\n",
        "corpus = api.load('text8')\n",
        "# api.info()"
      ],
      "execution_count": null,
      "outputs": [
        {
          "output_type": "stream",
          "text": [
            "[==================================================] 100.0% 31.6/31.6MB downloaded\n"
          ],
          "name": "stdout"
        }
      ]
    },
    {
      "cell_type": "markdown",
      "metadata": {
        "id": "nvSxGbYN8aHr"
      },
      "source": [
        "text8 is first 100MB from English wikipedia, 17 million words\n",
        "\n",
        "The file is downloadable from \n",
        "http://mattmahoney.net/dc/text8.zip\n"
      ]
    },
    {
      "cell_type": "code",
      "metadata": {
        "colab": {
          "base_uri": "https://localhost:8080/"
        },
        "id": "GOfGR4GVxzIY",
        "outputId": "7391a5fd-788d-4534-c869-eaf2415008d9"
      },
      "source": [
        "# Examine the corpus to see what is there\n",
        "api.info(\"text8\")"
      ],
      "execution_count": null,
      "outputs": [
        {
          "output_type": "execute_result",
          "data": {
            "text/plain": [
              "{'checksum': '68799af40b6bda07dfa47a32612e5364',\n",
              " 'description': 'First 100,000,000 bytes of plain text from Wikipedia. Used for testing purposes; see wiki-english-* for proper full Wikipedia datasets.',\n",
              " 'file_name': 'text8.gz',\n",
              " 'file_size': 33182058,\n",
              " 'license': 'not found',\n",
              " 'num_records': 1701,\n",
              " 'parts': 1,\n",
              " 'read_more': ['http://mattmahoney.net/dc/textdata.html'],\n",
              " 'reader_code': 'https://github.com/RaRe-Technologies/gensim-data/releases/download/text8/__init__.py',\n",
              " 'record_format': 'list of str (tokens)'}"
            ]
          },
          "metadata": {
            "tags": []
          },
          "execution_count": 2
        }
      ]
    },
    {
      "cell_type": "code",
      "metadata": {
        "id": "hNRnUeEDzJS8",
        "colab": {
          "base_uri": "https://localhost:8080/"
        },
        "outputId": "7ce8fc23-196a-4453-f1fa-9ad26fa4ca2c"
      },
      "source": [
        "type(corpus)"
      ],
      "execution_count": null,
      "outputs": [
        {
          "output_type": "execute_result",
          "data": {
            "text/plain": [
              "text8.Dataset"
            ]
          },
          "metadata": {
            "tags": []
          },
          "execution_count": 10
        }
      ]
    },
    {
      "cell_type": "code",
      "metadata": {
        "id": "dlSD09Qoz_6t"
      },
      "source": [
        "data = [d for d in corpus]"
      ],
      "execution_count": null,
      "outputs": []
    },
    {
      "cell_type": "code",
      "metadata": {
        "id": "wyeDslt-26E2",
        "colab": {
          "base_uri": "https://localhost:8080/"
        },
        "outputId": "8ffc9729-ace2-48a6-9d06-9d180eb6668b"
      },
      "source": [
        "len(data)"
      ],
      "execution_count": null,
      "outputs": [
        {
          "output_type": "execute_result",
          "data": {
            "text/plain": [
              "1701"
            ]
          },
          "metadata": {
            "tags": []
          },
          "execution_count": 6
        }
      ]
    },
    {
      "cell_type": "code",
      "metadata": {
        "colab": {
          "base_uri": "https://localhost:8080/"
        },
        "id": "TUQzkxNbyTEF",
        "outputId": "a11c832e-7495-4ceb-d611-ce16f5a4b87a"
      },
      "source": [
        "len(data[0])"
      ],
      "execution_count": null,
      "outputs": [
        {
          "output_type": "execute_result",
          "data": {
            "text/plain": [
              "10000"
            ]
          },
          "metadata": {
            "tags": []
          },
          "execution_count": 7
        }
      ]
    },
    {
      "cell_type": "code",
      "metadata": {
        "colab": {
          "base_uri": "https://localhost:8080/"
        },
        "id": "sEmirZe2yR9y",
        "outputId": "1f8a9a55-53bf-4463-d2ed-4cb3fd834a98"
      },
      "source": [
        "print(data[0][:100])"
      ],
      "execution_count": null,
      "outputs": [
        {
          "output_type": "stream",
          "text": [
            "['anarchism', 'originated', 'as', 'a', 'term', 'of', 'abuse', 'first', 'used', 'against', 'early', 'working', 'class', 'radicals', 'including', 'the', 'diggers', 'of', 'the', 'english', 'revolution', 'and', 'the', 'sans', 'culottes', 'of', 'the', 'french', 'revolution', 'whilst', 'the', 'term', 'is', 'still', 'used', 'in', 'a', 'pejorative', 'way', 'to', 'describe', 'any', 'act', 'that', 'used', 'violent', 'means', 'to', 'destroy', 'the', 'organization', 'of', 'society', 'it', 'has', 'also', 'been', 'taken', 'up', 'as', 'a', 'positive', 'label', 'by', 'self', 'defined', 'anarchists', 'the', 'word', 'anarchism', 'is', 'derived', 'from', 'the', 'greek', 'without', 'archons', 'ruler', 'chief', 'king', 'anarchism', 'as', 'a', 'political', 'philosophy', 'is', 'the', 'belief', 'that', 'rulers', 'are', 'unnecessary', 'and', 'should', 'be', 'abolished', 'although', 'there', 'are', 'differing']\n"
          ],
          "name": "stdout"
        }
      ]
    },
    {
      "cell_type": "code",
      "metadata": {
        "colab": {
          "base_uri": "https://localhost:8080/"
        },
        "id": "YkvbCylDyZF_",
        "outputId": "15014516-29a7-450d-ff8d-d71fa610aa6e"
      },
      "source": [
        "print(data[1][:100])"
      ],
      "execution_count": null,
      "outputs": [
        {
          "output_type": "stream",
          "text": [
            "['reciprocity', 'qualitative', 'impairments', 'in', 'communication', 'as', 'manifested', 'by', 'at', 'least', 'one', 'of', 'the', 'following', 'delay', 'in', 'or', 'total', 'lack', 'of', 'the', 'development', 'of', 'spoken', 'language', 'not', 'accompanied', 'by', 'an', 'attempt', 'to', 'compensate', 'through', 'alternative', 'modes', 'of', 'communication', 'such', 'as', 'gesture', 'or', 'mime', 'in', 'individuals', 'with', 'adequate', 'speech', 'marked', 'impairment', 'in', 'the', 'ability', 'to', 'initiate', 'or', 'sustain', 'a', 'conversation', 'with', 'others', 'stereotyped', 'and', 'repetitive', 'use', 'of', 'language', 'or', 'idiosyncratic', 'language', 'lack', 'of', 'varied', 'spontaneous', 'make', 'believe', 'play', 'or', 'social', 'imitative', 'play', 'appropriate', 'to', 'developmental', 'level', 'restricted', 'repetitive', 'and', 'stereotyped', 'patterns', 'of', 'behavior', 'interests', 'and', 'activities', 'as', 'manifested', 'by', 'at', 'least', 'one']\n"
          ],
          "name": "stdout"
        }
      ]
    },
    {
      "cell_type": "markdown",
      "metadata": {
        "id": "_eEjBCxovKl6"
      },
      "source": [
        "### Step 1: Set hyperparameters and instantiate model"
      ]
    },
    {
      "cell_type": "code",
      "metadata": {
        "id": "K9MC27DDvKl6"
      },
      "source": [
        "vector_size = 100 # Dimensionality of the word vectors\n",
        "window = 5 # How many words either side? (5 = 5 context words either side, i.e. 10 context words in total)\n",
        "use_skip_gram = 1 # If you set this to 0, then it will create a 'continuous bag of words' model instead\n",
        "use_softmax = 0 # If you set this to 1, then hierarchical softmax will be used instead of negative sampling\n",
        "negative_samples = 5 # How many incorrect answers to generate per correct answer when negative sampling\n",
        "\n",
        "model = Word2Vec(\n",
        "    size=vector_size,\n",
        "    window=window,\n",
        "    sg=use_skip_gram,\n",
        "    hs=use_softmax,\n",
        "    negative=negative_samples\n",
        ")"
      ],
      "execution_count": null,
      "outputs": []
    },
    {
      "cell_type": "markdown",
      "metadata": {
        "id": "ofhbkdEjvKl7"
      },
      "source": [
        "### Step 2: Fit model to corpus"
      ]
    },
    {
      "cell_type": "code",
      "metadata": {
        "id": "cEieLoWlvKl7"
      },
      "source": [
        "# build a model\n",
        "model.build_vocab(corpus)"
      ],
      "execution_count": null,
      "outputs": []
    },
    {
      "cell_type": "code",
      "metadata": {
        "id": "8e_ijem9vKl7",
        "colab": {
          "base_uri": "https://localhost:8080/"
        },
        "outputId": "48306b80-fb7a-456f-d745-d66687d39d3b"
      },
      "source": [
        "# Train the model on the corpus\n",
        "model.train(sentences=corpus, epochs=5, total_examples=model.corpus_count)"
      ],
      "execution_count": null,
      "outputs": [
        {
          "output_type": "execute_result",
          "data": {
            "text/plain": [
              "(62532758, 85026035)"
            ]
          },
          "metadata": {
            "tags": []
          },
          "execution_count": 14
        }
      ]
    },
    {
      "cell_type": "markdown",
      "metadata": {
        "id": "ThYRouIevKl8"
      },
      "source": [
        "### Step 3: Extract word vectors from model\n",
        "\n",
        "The fully trained model includes all of the weights used to predict the context words for each input word. If you are not planning on training the model further, these weights can be discarded, and you can just keep the weights for the word vectors."
      ]
    },
    {
      "cell_type": "code",
      "metadata": {
        "id": "4V0LfNx_vKl8"
      },
      "source": [
        "word_vectors = model.wv\n",
        "del model # Delete the whole model to free up the computer's RAM"
      ],
      "execution_count": null,
      "outputs": []
    },
    {
      "cell_type": "markdown",
      "metadata": {
        "id": "zSkZD22AvKl8"
      },
      "source": [
        "### Step 4: Have a play with the model\n",
        "\n",
        "There are several ways you can use word vectors. One of the most famous is to use them to compute analogies. The formula is:\n",
        "\n",
        "<center><em>x</em> is to <em>small</em> as <em>biggest</em> is to <em>big</em></center>\n",
        "\n",
        "$$x - vector('small') = vector('biggest') - vector('big')$$\n",
        "\n",
        "$$\\therefore x = vector('small') + vector('biggest') - vector('big')$$"
      ]
    },
    {
      "cell_type": "code",
      "metadata": {
        "id": "2Pftv0DEvKl8",
        "colab": {
          "base_uri": "https://localhost:8080/"
        },
        "outputId": "b269f43a-a30a-4c1e-f156-6b799daa336c"
      },
      "source": [
        "# See the word vector for a particular word\n",
        "vector = word_vectors['banana']\n",
        "print(vector)"
      ],
      "execution_count": null,
      "outputs": [
        {
          "output_type": "stream",
          "text": [
            "[ 0.08057743 -0.37878227  0.11396107  0.14235406 -0.2552257  -0.04763536\n",
            " -0.08588961  0.01662323  0.46558335 -0.50837046  0.30185136 -0.06098369\n",
            " -0.418174    0.13988963 -0.10220706  0.15339582  0.38421425  0.21753767\n",
            " -0.26462123 -0.33933952  0.28586322  0.11846864  0.3968051  -0.16568922\n",
            " -0.22783485  0.36126766 -0.22072391  0.16978219  0.5335923   0.18782915\n",
            "  0.60121    -0.36147678 -0.02602972  0.14496188 -0.17212881 -0.24069406\n",
            " -0.29610342 -0.32738495 -0.1662697  -0.38284692  0.01360897  0.06235801\n",
            "  0.15124774 -0.8239667   0.2916196   0.04945309  0.65051603  0.46133086\n",
            " -0.09078005  0.24386574 -0.04115861 -0.1900839  -0.5249951   0.10927019\n",
            " -0.2982055   0.14596453 -0.47051612 -0.11326216 -0.14202902 -0.25076422\n",
            " -0.24767946 -0.07321762 -0.7660264  -0.3274344   0.18505608  0.18432108\n",
            " -0.6316265  -0.0014289   0.10793305 -0.05339458 -0.1794082  -0.15424067\n",
            "  0.5362082   0.49607205 -0.00949856 -0.24278763  0.28570586  0.6374683\n",
            "  0.10907999  0.17071956  0.1159452  -0.31039122 -0.3783787   0.2932469\n",
            "  0.18267281 -0.23447612 -0.07923921  0.19721912  0.12407014 -0.00236517\n",
            " -0.5951328  -0.3973659  -0.22402805  0.04928925 -0.22695115 -0.0682821\n",
            "  0.11149199 -0.09870672 -0.25566056 -0.34860775]\n"
          ],
          "name": "stdout"
        }
      ]
    },
    {
      "cell_type": "code",
      "metadata": {
        "id": "8_qUSF7ZvKl9",
        "colab": {
          "base_uri": "https://localhost:8080/"
        },
        "outputId": "fc5bfb26-6059-4e0a-ac3e-159d1e1abe79"
      },
      "source": [
        "# See which words are closest to a given word in the vector space\n",
        "similar_words = word_vectors.most_similar('university', topn=10)\n",
        "print('\\n'.join([str(tup) for tup in similar_words]))"
      ],
      "execution_count": null,
      "outputs": [
        {
          "output_type": "stream",
          "text": [
            "('college', 0.8302913904190063)\n",
            "('urbana', 0.776872992515564)\n",
            "('polytechnic', 0.7725688219070435)\n",
            "('institute', 0.7647371292114258)\n",
            "('champaign', 0.7477920055389404)\n",
            "('cambridge', 0.7369121313095093)\n",
            "('yale', 0.7320483922958374)\n",
            "('polytechnical', 0.7319600582122803)\n",
            "('rutgers', 0.7314851880073547)\n",
            "('johns', 0.7283385396003723)\n"
          ],
          "name": "stdout"
        }
      ]
    },
    {
      "cell_type": "code",
      "metadata": {
        "colab": {
          "base_uri": "https://localhost:8080/"
        },
        "id": "T38xLSz62OyK",
        "outputId": "7d2a2e7b-e78a-4ab3-e908-49663d1cc0fc"
      },
      "source": [
        "# See which words are closest to a given word in the vector space\n",
        "similar_words = word_vectors.most_similar('red', topn=10)\n",
        "print('\\n'.join([str(tup) for tup in similar_words]))"
      ],
      "execution_count": null,
      "outputs": [
        {
          "output_type": "stream",
          "text": [
            "('yellow', 0.8184937238693237)\n",
            "('white', 0.8159852623939514)\n",
            "('blue', 0.8070787191390991)\n",
            "('green', 0.7698606848716736)\n",
            "('purple', 0.7313545346260071)\n",
            "('black', 0.7292963862419128)\n",
            "('stripes', 0.7009953856468201)\n",
            "('jerseys', 0.6800992488861084)\n",
            "('colored', 0.6640898585319519)\n",
            "('sash', 0.6634660959243774)\n"
          ],
          "name": "stdout"
        }
      ]
    },
    {
      "cell_type": "code",
      "metadata": {
        "colab": {
          "base_uri": "https://localhost:8080/"
        },
        "id": "wvyAmb152SMD",
        "outputId": "84478838-67cb-4cf0-bcae-c8751f6dacad"
      },
      "source": [
        "# See which words are closest to a given word in the vector space\n",
        "similar_words = word_vectors.most_similar('brussels', topn=10)\n",
        "print('\\n'.join([str(tup) for tup in similar_words]))"
      ],
      "execution_count": null,
      "outputs": [
        {
          "output_type": "stream",
          "text": [
            "('maastricht', 0.7439447641372681)\n",
            "('bruges', 0.7427038550376892)\n",
            "('aachen', 0.7381912469863892)\n",
            "('amsterdam', 0.737143337726593)\n",
            "('ghent', 0.7288802266120911)\n",
            "('strasbourg', 0.7250431180000305)\n",
            "('frankfurt', 0.7092779874801636)\n",
            "('rotterdam', 0.7078688144683838)\n",
            "('bonn', 0.7050737142562866)\n",
            "('bordeaux', 0.7041142582893372)\n"
          ],
          "name": "stdout"
        }
      ]
    },
    {
      "cell_type": "code",
      "metadata": {
        "colab": {
          "base_uri": "https://localhost:8080/"
        },
        "id": "r68SeidU2lRz",
        "outputId": "db6076d5-6512-42d1-bd80-4aeeeadcd37e"
      },
      "source": [
        "# See which words are closest to a given word in the vector space\n",
        "similar_words = word_vectors.most_similar('germany', topn=10)\n",
        "print('\\n'.join([str(tup) for tup in similar_words]))"
      ],
      "execution_count": null,
      "outputs": [
        {
          "output_type": "stream",
          "text": [
            "('austria', 0.8248653411865234)\n",
            "('italy', 0.7685587406158447)\n",
            "('belgium', 0.7650684714317322)\n",
            "('switzerland', 0.7640849351882935)\n",
            "('hungary', 0.7583723068237305)\n",
            "('poland', 0.7563267946243286)\n",
            "('netherlands', 0.7454272508621216)\n",
            "('berlin', 0.7384282350540161)\n",
            "('finland', 0.7346256375312805)\n",
            "('denmark', 0.7233068943023682)\n"
          ],
          "name": "stdout"
        }
      ]
    },
    {
      "cell_type": "code",
      "metadata": {
        "colab": {
          "base_uri": "https://localhost:8080/"
        },
        "id": "6RVNTkIs2thF",
        "outputId": "a53d6463-5329-4e44-eed9-331e5dde2ad7"
      },
      "source": [
        "# See which words are closest to a given word in the vector space\n",
        "similar_words = word_vectors.most_similar('strange', topn=10)\n",
        "print('\\n'.join([str(tup) for tup in similar_words]))"
      ],
      "execution_count": null,
      "outputs": [
        {
          "output_type": "stream",
          "text": [
            "('mysterious', 0.6952362656593323)\n",
            "('fictionalised', 0.6614861488342285)\n",
            "('kitten', 0.6589220762252808)\n",
            "('scary', 0.6574631929397583)\n",
            "('snowman', 0.6556798815727234)\n",
            "('hideous', 0.6534916758537292)\n",
            "('awful', 0.6533659100532532)\n",
            "('hilarious', 0.6519839763641357)\n",
            "('surreal', 0.6514548063278198)\n",
            "('apparitions', 0.6504389047622681)\n"
          ],
          "name": "stdout"
        }
      ]
    },
    {
      "cell_type": "code",
      "metadata": {
        "colab": {
          "base_uri": "https://localhost:8080/"
        },
        "id": "2Oqwf3ni21zW",
        "outputId": "b13527af-e39b-4dc7-8a2f-8f7b0e762021"
      },
      "source": [
        "# Compute analogous words\n",
        "# E.g. x is to queen as man is to king => x = v('queen') + v('man') - v('king')\n",
        "analogous_words = word_vectors.most_similar(negative=['man'], positive=['king','woman'])\n",
        "print('\\n'.join([str(tup) for tup in analogous_words]))"
      ],
      "execution_count": null,
      "outputs": [
        {
          "output_type": "stream",
          "text": [
            "('queen', 0.6321631669998169)\n",
            "('throne', 0.6140472888946533)\n",
            "('sigismund', 0.6035372018814087)\n",
            "('daughter', 0.6032637357711792)\n",
            "('olympias', 0.6022640466690063)\n",
            "('prince', 0.6015709638595581)\n",
            "('dowager', 0.59840989112854)\n",
            "('marries', 0.5950711369514465)\n",
            "('wenceslaus', 0.5947388410568237)\n",
            "('isabella', 0.5926554203033447)\n"
          ],
          "name": "stdout"
        }
      ]
    },
    {
      "cell_type": "code",
      "metadata": {
        "id": "0sVv80bYvKl9",
        "colab": {
          "base_uri": "https://localhost:8080/"
        },
        "outputId": "ff750fc2-2630-49b5-959f-12c9b8395628"
      },
      "source": [
        "# Compute analogous words\n",
        "# E.g. x is to queen as man is to king => x = v('queen') + v('man') - v('king')\n",
        "analogous_words = word_vectors.most_similar(negative=['king'], positive=['queen','man'])\n",
        "print('\\n'.join([str(tup) for tup in analogous_words]))"
      ],
      "execution_count": null,
      "outputs": [
        {
          "output_type": "stream",
          "text": [
            "('woman', 0.6597509980201721)\n",
            "('frail', 0.5844504833221436)\n",
            "('girl', 0.5768628120422363)\n",
            "('blonde', 0.5707680583000183)\n",
            "('prostitute', 0.5689617395401001)\n",
            "('totoro', 0.5675539970397949)\n",
            "('loving', 0.5577417612075806)\n",
            "('gentleman', 0.552753210067749)\n",
            "('ladies', 0.5510775446891785)\n",
            "('pygmalion', 0.5509780645370483)\n"
          ],
          "name": "stdout"
        }
      ]
    },
    {
      "cell_type": "code",
      "metadata": {
        "colab": {
          "base_uri": "https://localhost:8080/"
        },
        "id": "q8gfHhZf3Byi",
        "outputId": "ed8b237e-88ac-4a03-8ba2-2e976b0cd58b"
      },
      "source": [
        "# Compute analogous words\n",
        "# E.g. x is to queen as man is to king => x = v('queen') + v('man') - v('king')\n",
        "analogous_words = word_vectors.most_similar(negative=['mother'], positive=['father','daughter'])\n",
        "print('\\n'.join([str(tup) for tup in analogous_words]))"
      ],
      "execution_count": null,
      "outputs": [
        {
          "output_type": "stream",
          "text": [
            "('son', 0.8452534675598145)\n",
            "('brother', 0.7582974433898926)\n",
            "('cousin', 0.7579344511032104)\n",
            "('nephew', 0.7464486956596375)\n",
            "('eldest', 0.743414044380188)\n",
            "('wife', 0.7388955354690552)\n",
            "('grandson', 0.7323840856552124)\n",
            "('confidant', 0.7276127338409424)\n",
            "('granddaughter', 0.7237993478775024)\n",
            "('olympias', 0.7098314166069031)\n"
          ],
          "name": "stdout"
        }
      ]
    },
    {
      "cell_type": "code",
      "metadata": {
        "colab": {
          "base_uri": "https://localhost:8080/"
        },
        "id": "IuzURZa_6hQC",
        "outputId": "68d1c1db-aebf-451c-92ad-5e76613bf781"
      },
      "source": [
        "# Compute analogous words\n",
        "# E.g. x is to queen as man is to king => x = v('queen') + v('man') - v('king')\n",
        "analogous_words = word_vectors.most_similar(negative=['mother'], positive=['father','girl'])\n",
        "print('\\n'.join([str(tup) for tup in analogous_words]))"
      ],
      "execution_count": null,
      "outputs": [
        {
          "output_type": "stream",
          "text": [
            "('boy', 0.6801096200942993)\n",
            "('bartender', 0.6520256996154785)\n",
            "('man', 0.6491988897323608)\n",
            "('boys', 0.6477783918380737)\n",
            "('mister', 0.6474010348320007)\n",
            "('ziegfeld', 0.6331601142883301)\n",
            "('totoro', 0.6317894458770752)\n",
            "('ugly', 0.6317366361618042)\n",
            "('kid', 0.6297487616539001)\n",
            "('naughty', 0.6279672980308533)\n"
          ],
          "name": "stdout"
        }
      ]
    },
    {
      "cell_type": "code",
      "metadata": {
        "colab": {
          "base_uri": "https://localhost:8080/"
        },
        "id": "PzzlKdei6uiW",
        "outputId": "72783a09-70d0-49a5-fba0-790201e7b991"
      },
      "source": [
        "# Compute analogous words\n",
        "# x is to daughter as people is to person (plural + daughter)\n",
        "analogous_words = word_vectors.most_similar(negative=['person'], positive=['people','daughter'])\n",
        "print('\\n'.join([str(tup) for tup in analogous_words]))"
      ],
      "execution_count": null,
      "outputs": [
        {
          "output_type": "stream",
          "text": [
            "('daughters', 0.6616181135177612)\n",
            "('sons', 0.593657910823822)\n",
            "('eleonora', 0.5934041738510132)\n",
            "('parents', 0.5883336663246155)\n",
            "('mother', 0.5797499418258667)\n",
            "('sister', 0.5784984827041626)\n",
            "('sisters', 0.5775691270828247)\n",
            "('alexandra', 0.5699713230133057)\n",
            "('simeon', 0.5699524879455566)\n",
            "('brothers', 0.5695198774337769)\n"
          ],
          "name": "stdout"
        }
      ]
    },
    {
      "cell_type": "code",
      "metadata": {
        "id": "_XiIkbYL65vn"
      },
      "source": [
        ""
      ],
      "execution_count": null,
      "outputs": []
    },
    {
      "cell_type": "markdown",
      "metadata": {
        "id": "22fSc-iyvKl9"
      },
      "source": [
        "## Step 4A - optional. Using pre-trained models in Gensim\n",
        "\n",
        "In many applications, you will simply want access to pre-trained word vectors (e.g. for plugging in to another model you are training). If you don't need the vectors to be tailored closely to your particular corpus, then you might like to use some pretrained models.\n",
        "\n",
        "`word2vec` is not the only word embedding family of algorithms. Another, arguably even more powerful algorithm is the `FastText` algorithm, which Mikolov developed after moving to Facebook:\n",
        "\n",
        "* Piotr Bojanowski and others, ‘Enriching Word Vectors with Subword Information’, ArXiv:1607.04606, 2017 <http://arxiv.org/abs/1607.04606>.\n",
        "\n",
        "Instead of computing word vectors for each word, FastText splits each word into its constituent chunks. For example, 'cat' would be split into 'c', 'a', 't', 'ca', 'at' and 'cat', and 'burp' would be split into 'b', 'u', 'r', 'p', 'bu', 'ur', 'rp', 'bur', 'urp' and 'burp'. Then a vector is computer for each chunk that appears in the corpus. Each word is represented as the mean of all the chunks that make it up. FastText is able to learn very good word vectors because it can extract meaning from subword units, e.g. it can see that 'television', 'telegraph' and 'telepathy' all have 'tele' at the front, and can see that 'formality', 'criminality' and 'paucity' share subword units such as 'al' and 'ity'.\n",
        "\n",
        "You can access many pretrained models using the Gensim downloader. Using the cells below, you can try out some of the different models available through Gensim. Along with `word2vec` and `FastText`, Gensim also supports `Glove` and `Doc2Vec` models.\n",
        "\n",
        "**NB:** These trained models are very large, and will take a while to download. You may wish to download this notebook and execute the cells below on your own machine, in case Google kicks you out of the Colab environment."
      ]
    },
    {
      "cell_type": "code",
      "metadata": {
        "id": "rldVE5pmvKl-",
        "colab": {
          "base_uri": "https://localhost:8080/"
        },
        "outputId": "5a228b6c-a510-43f5-faae-25a9fdcaa73c"
      },
      "source": [
        "# See what models are on offer\n",
        "print(list(api.info()['models'].keys()))"
      ],
      "execution_count": null,
      "outputs": [
        {
          "output_type": "stream",
          "text": [
            "['fasttext-wiki-news-subwords-300', 'conceptnet-numberbatch-17-06-300', 'word2vec-ruscorpora-300', 'word2vec-google-news-300', 'glove-wiki-gigaword-50', 'glove-wiki-gigaword-100', 'glove-wiki-gigaword-200', 'glove-wiki-gigaword-300', 'glove-twitter-25', 'glove-twitter-50', 'glove-twitter-100', 'glove-twitter-200', '__testing_word2vec-matrix-synopsis']\n"
          ],
          "name": "stdout"
        }
      ]
    },
    {
      "cell_type": "code",
      "metadata": {
        "id": "nMTAxneZ7OaZ"
      },
      "source": [
        "# Optional! THIS WILL TAKE SOME TIME!!!\n",
        "# 300-dimensional word vectors trained on a huge dataset from Google News\n",
        "google_news_w2v = api.load('word2vec-google-news-300')"
      ],
      "execution_count": null,
      "outputs": []
    },
    {
      "cell_type": "code",
      "metadata": {
        "id": "uTKwcm_7vKl-"
      },
      "source": [
        "# x is to Kenya as Canberra is to Australia\n",
        "google_news_w2v.similar_words(negative=['australia'],positive=['kenya','canberra'], topn=10)"
      ],
      "execution_count": null,
      "outputs": []
    },
    {
      "cell_type": "code",
      "metadata": {
        "id": "mPZl6qzEvKl-"
      },
      "source": [
        "# Optional! THIS WILL TAKE SOME TIME!!!\n",
        "# Facebook's own FastText vectors, trained on Wikipedia\n",
        "wikipedia_fasttext = api.load('fasttext-wiki-news-subwords-300')"
      ],
      "execution_count": null,
      "outputs": []
    },
    {
      "cell_type": "code",
      "metadata": {
        "id": "w4xj0CGQ7iFg"
      },
      "source": [
        "# x is to Wharton as London is to Dickens\n",
        "wikipedia_fasttext.similar_words(negative=['dickens'],positive=['wharton','london'], topn=10)"
      ],
      "execution_count": null,
      "outputs": []
    },
    {
      "cell_type": "markdown",
      "metadata": {
        "id": "NqVFfYx878cA"
      },
      "source": [
        "## Step 5. Training the Armenian model\n",
        "\n",
        "Now let's train a model on our own corpus. You can try to create Armenian / Ukrainian / Russian / German / French word vector model.\n",
        "\n",
        "Armenian, Ukrainian, Russian plaintext wikipedias are available at:\n",
        "https://lindat.mff.cuni.cz/repository/xmlui/handle/11234/1-2735#\n",
        "\n",
        "We can use the same size ~15 Million Words, (200MB) of these corpora to make sure the model is built within a reasonable time; however, when you have more time, you can try a more complete corpus.\n",
        "\n",
        "It is possible to download/unzip/upload the files manually, however, it is faster to automatically load them directly from Heidelberg server space https://heibox.uni-heidelberg.de/d/42a07c9e95774e099a81/  into your colab environment. To do this run the cells 5a or 5b, or 5c, or 5d, or 5e -- depending on which language you prefer -- to download the data. Then skip other language and continue with Step5 -- building the model for your preferred language from the data you downloaded.\n"
      ]
    },
    {
      "cell_type": "code",
      "metadata": {
        "id": "8uwDxwRTSnqY"
      },
      "source": [
        "rm /usr/local/lib/python3.7/dist-packages/gensim/test/test_data/myOwnLangText8.txt\n",
        "rm index.html?dl=1"
      ],
      "execution_count": null,
      "outputs": []
    },
    {
      "cell_type": "markdown",
      "metadata": {
        "id": "EPZo393WEWGW"
      },
      "source": [
        "### Either: 5a Armenian"
      ]
    },
    {
      "cell_type": "code",
      "metadata": {
        "colab": {
          "base_uri": "https://localhost:8080/"
        },
        "id": "jLc70OaADDsY",
        "outputId": "8793e2c3-9e05-4d23-f567-4951fff92763"
      },
      "source": [
        "!wget https://heibox.uni-heidelberg.de/f/ffe527ed3d1e4b4cb43a/?dl=1"
      ],
      "execution_count": null,
      "outputs": [
        {
          "output_type": "stream",
          "text": [
            "--2021-08-04 17:54:52--  https://heibox.uni-heidelberg.de/f/ffe527ed3d1e4b4cb43a/?dl=1\n",
            "Resolving heibox.uni-heidelberg.de (heibox.uni-heidelberg.de)... 129.206.7.113\n",
            "Connecting to heibox.uni-heidelberg.de (heibox.uni-heidelberg.de)|129.206.7.113|:443... connected.\n",
            "HTTP request sent, awaiting response... 302 Found\n",
            "Location: https://heibox.uni-heidelberg.de/seafhttp/files/a6368489-0db8-4771-a8f6-d810d587adcf/hy9.txt [following]\n",
            "--2021-08-04 17:54:53--  https://heibox.uni-heidelberg.de/seafhttp/files/a6368489-0db8-4771-a8f6-d810d587adcf/hy9.txt\n",
            "Reusing existing connection to heibox.uni-heidelberg.de:443.\n",
            "HTTP request sent, awaiting response... 200 OK\n",
            "Length: 199999999 (191M) [text/plain]\n",
            "Saving to: ‘index.html?dl=1’\n",
            "\n",
            "index.html?dl=1     100%[===================>] 190.73M  14.9MB/s    in 13s     \n",
            "\n",
            "2021-08-04 17:55:06 (15.2 MB/s) - ‘index.html?dl=1’ saved [199999999/199999999]\n",
            "\n"
          ],
          "name": "stdout"
        }
      ]
    },
    {
      "cell_type": "code",
      "metadata": {
        "id": "Yj1swlOVH4J9"
      },
      "source": [
        "!cp index.html?dl=1 /usr/local/lib/python3.7/dist-packages/gensim/test/test_data/myOwnLangText8.txt"
      ],
      "execution_count": null,
      "outputs": []
    },
    {
      "cell_type": "code",
      "metadata": {
        "colab": {
          "base_uri": "https://localhost:8080/"
        },
        "id": "ASwFiA0tPfBn",
        "outputId": "0cb14af0-fb3d-48bd-f7a6-819db4815622"
      },
      "source": [
        "!head --lines=15 /usr/local/lib/python3.7/dist-packages/gensim/test/test_data/myOwnLangText8.txt"
      ],
      "execution_count": null,
      "outputs": [
        {
          "output_type": "stream",
          "text": [
            "Հայաստան\n",
            "\n",
            "Հայաստան, պաշտոնական անվանումը՝ Հայաստանի Հանրապետություն, պետություն Հարավային Կովկասում։\n",
            "\n",
            "Գտնվում է Առաջավոր Ասիայի հյուսիսային մասում՝ Հայկական լեռնաշխարհի հյուսիս-արևելքում։ Հյուսիսում սահմանակցում է Վրաստանին, արևելքում՝ Ադրբեջանին, հարավում՝ Իրանին, արևմուտքում՝ Թուրքիային։ Հարավարևելյան կողմում Արցախն է, իսկ հարավարևմտյան կողմում՝ Ադրբեջանի վերահսկողության տակ գտնվող Նախիջևանի Ինքնավար Հանրապետությունը։ Այժմյան Հայաստանի Հանրապետությունը զբաղեցնում է պատմական Հայաստանի տարածքի միայն մեկ տասներորդը։\n",
            "\n",
            "Մինչև 20-րդ դարի սկիզբը «Հայաստան» անվանումը վերաբերում էր ողջ Հայկական լեռնաշխարհին, որտեղ կազմավորվել և իր պատմական ուղին է անցել հայ ժողովուրդը։ Հայ ժողովրդի պատմության սկիզբն ընդունված է համարել մ.թ.ա. 2492 թվականը, երբ հայ ժողովրդի անվանադիր նախահայրը՝ Հայկ նահապետը, Հայոց ձորում հաղթում է Ասորեստանի թագավոր Բելին և անկախություն նվաճում։\n",
            "\n",
            "Ժամանակակից Հայաստանը զբաղեցնում է 29 743 կմ տարածք (138-րդն աշխարհում) և ունի բնակչություն (136-րդն աշխարհում)։ Մայրաքաղաքը Երևանն է, պետական լեզուն՝ հայերենը, բնակչության 98,7 տոկոսը դավանում է քրիստոնեություն։ Հայաստանյայց Առաքելական Սուրբ Եկեղեցին ժամանակակից Հայաստանի հիմնական կրոնական հաստատությունն է։\n",
            "\n",
            "Հայաստանն ունիտար կառուցվածքով, բազմակուսակցական համակարգով ժողովրդավարական ազգային պետություն է։ Հայաստանի Սահմանադրությունն ընդունվել է 1995 թվականի հուլիսի 5-ին և փոփոխությունների ենթարկվել 2005 թվականի նոյեմբերի 27-ի ու 2015 թվականի դեկտեմբերի 6-ի համապետական հանրաքվեների արդյունքում։ Վանի թագավորությունը հիմնվել է մ․թ․ա․ 860 թվականին, որին մ․թ․ա․ VI դարում փոխարինել է Սատրապական Հայաստանը։ Մ․թ․ա․ I դարում՝ Տիգրան Մեծի օրոք Մեծ Հայքը հասնում է իր առավելագույն մեծությանը և հզորությանը։ Հայաստանն առաջին պետությունն է, որ ընդունել է քրիստոնեությունը որպես պետական կրոն III դարից մինչև վաղ IV դարն ընկած ժամանակահատվածում։ Քրիստոնեությունը որպես պետական կրոն է ընդունվել մ․թ․ 301 թվականին։ Հին հայկական թագավորությունը վաղ V դարում բաժանվել է Բյուզանդիայի և Սասանյան Պարսկաստանի միջև։ Բագրատունիների կառավարման ժամակաշրջանում՝ IX դարում, Հայաստանը վերականգնել է իր պետականությունը։ Բյուզանդիայի դեմ պատերազմների պատճառով 1045 թվականին թագավորությունն անկում է ապրում, Հայաստանը գրավում են սելջուկ-թուրքերը։ XI-XIV դարերում Միջերկրական ծովի ափին հիմնվել է Կիլիկիայի հայկական իշխանությունը և ապա՝ թագավորությունը։\n",
            "\n",
            "XVI-XIX դարերում հայերի հայրենիքը, որը կազմված էր Արևելյան և Արևմտյան Հայաստաններից, ընկնում է Օսմանյան և Պարսկական կայսրությունների իշխանության տակ։ XIX դարում Արևելյան Հայաստանը գրավվում է Ռուսական կայսրության կողմից․ Արևմտյան Հայաստանը՝ Հայաստանի մեծ մասը, դեռևս մնում է Օսմանյան կառավարման տակ։ Առաջին համաշխարհային պատերազմի ժամանակ Օսմանյան կայսրության իշխանության ղեկին կանգնած երիտթուրքական «Իթթիհաթ վե թերաքի» կուսակցությունն իրականացնում է հայերի ցեղասպանությունը, որի արդյունքում 1915-1923 թվականներին զանգվածային տեղահանության է ենթարկվել և բնաջնջվել Օսմանյան կայսրության նահանգների, այդ թվում՝ Արևմտյան Հայաստանի հայ բնակչությունը։ 1918 թվականին՝ Ռուսական հեղափոխությունից և Ռուսական կայսրության անկումից հետո, ոչ ռուսական պետությունները, այդ թվում նաև Հայաստանը, հռչակում են իրենց անկախությունը. հիմնվում է Հայաստանի առաջին Հանրապետությունը։ 1922 մարտի 12-ին Հայաստանը մտնում է Անդրկովկասի Խորհրդային Ֆեդերատիվ Սոցիալիստական Հանրապետության կազմի մեջ (վերջինս 1922 թ. մարտի 12-ից մինչև 1922 թ. դեկտեմբերի 13-ը հանդիսանում էր Անդրկովկասի Խորհրդային Սոցիալիստական Հանրապետությունների Դաշնային Միություն, 1922 թ. դեկտեմբերի 13-ից վերածվեց Անդրկովկասի Խորհրդային Ֆեդերատիվ Սոցիալիստական Հանրապետության), որն էլ, իր հերթին, 1922 թվականին դեկտեմբերի 30-ին դառնում է Խորհրդային միության հիմնադիր չորս անդամներից մեկը (Ռուսաստանի Դաշային ԽՍՀ, Ուկրաինական ԽՍՀ, Բելառուսական ԽՍՀ և Անդրկովկասի Դաշնային ԽՍՀ)։ 1936 թվականի դեկտեմբերի 5-ին Անդրկովկասյան Դաշնությունը կազմալուծվում է, իսկ անդամ պետությունները, այդ թվում Հայաստանի Խորհրդային Սոցիալիստական Հանրապետությունը, դառնում են խորհրդային հանրապետություններ։ Հայաստանի երրորդ Հանրապետությունը հիմնվել է 1991 թվականին՝ Խորհրդային միության փլուզումից հետո, երբ համաժողովրդական հանրաքվեի արդյունքում Հայաստանի՝ ընտրելու իրավունք ունեցող քաղաքացիների 94,39 %-ը կողմ քվեարկեց ԽՍՀՄ կազմից դուրս գալու և ՀՀ անկախության օգտին։\n",
            "\n",
            "Հայաստանը ՄԱԿ-ի, Հավաքական անվտանգության պայմանագրի կազմակերպության, ԱՊՀ-ի, Եվրախորհրդի, ԱՀԿ-ի և ավելի քան 40 այլ միջազգային կազմակերպությունների անդամ է։ 2015 թվականի հունվարի 2-ին Հայաստանն անդամակցել է Եվրասիական տնտեսական միությանը։ Հայաստանը աջակցում է \"դե ֆակտո\" անկախ Արցախի Հանրապետությանը, որն անկախացել է 1991 թվականին։\n"
          ],
          "name": "stdout"
        }
      ]
    },
    {
      "cell_type": "markdown",
      "metadata": {
        "id": "teve3mqpEdgG"
      },
      "source": [
        "### Or: 5b Ukrainian"
      ]
    },
    {
      "cell_type": "code",
      "metadata": {
        "colab": {
          "base_uri": "https://localhost:8080/"
        },
        "id": "Pz-lMC8ZEgTQ",
        "outputId": "b112b513-ba4f-422d-d4c5-31fba598a5cb"
      },
      "source": [
        "!wget https://heibox.uni-heidelberg.de/f/676bef3a6db8482e9665/?dl=1"
      ],
      "execution_count": null,
      "outputs": [
        {
          "output_type": "stream",
          "text": [
            "--2021-08-04 17:29:51--  https://heibox.uni-heidelberg.de/f/676bef3a6db8482e9665/?dl=1\n",
            "Resolving heibox.uni-heidelberg.de (heibox.uni-heidelberg.de)... 129.206.7.113\n",
            "Connecting to heibox.uni-heidelberg.de (heibox.uni-heidelberg.de)|129.206.7.113|:443... connected.\n",
            "HTTP request sent, awaiting response... 302 Found\n",
            "Location: https://heibox.uni-heidelberg.de/seafhttp/files/b0adbe06-4885-449c-bb7d-b913e5633e1a/uk8.txt [following]\n",
            "--2021-08-04 17:29:52--  https://heibox.uni-heidelberg.de/seafhttp/files/b0adbe06-4885-449c-bb7d-b913e5633e1a/uk8.txt\n",
            "Reusing existing connection to heibox.uni-heidelberg.de:443.\n",
            "HTTP request sent, awaiting response... 200 OK\n",
            "Length: 200000000 (191M) [text/plain]\n",
            "Saving to: ‘index.html?dl=1’\n",
            "\n",
            "index.html?dl=1     100%[===================>] 190.73M  14.9MB/s    in 13s     \n",
            "\n",
            "2021-08-04 17:30:05 (15.2 MB/s) - ‘index.html?dl=1’ saved [200000000/200000000]\n",
            "\n"
          ],
          "name": "stdout"
        }
      ]
    },
    {
      "cell_type": "code",
      "metadata": {
        "id": "3Kw3XZQPH47I"
      },
      "source": [
        "!cp index.html?dl=1 /usr/local/lib/python3.7/dist-packages/gensim/test/test_data/myOwnLangText8.txt"
      ],
      "execution_count": null,
      "outputs": []
    },
    {
      "cell_type": "markdown",
      "metadata": {
        "id": "OKKHYl4dFFcT"
      },
      "source": [
        "### Or: 5c German"
      ]
    },
    {
      "cell_type": "code",
      "metadata": {
        "id": "k9i_seazFN9i"
      },
      "source": [
        "!wget https://heibox.uni-heidelberg.de/f/ca0a085347c34563a6e6/?dl=1"
      ],
      "execution_count": null,
      "outputs": []
    },
    {
      "cell_type": "code",
      "metadata": {
        "id": "m13CwxeEH9dk"
      },
      "source": [
        "!cp index.html?dl=1 /usr/local/lib/python3.7/dist-packages/gensim/test/test_data/myOwnLangText8.txt"
      ],
      "execution_count": null,
      "outputs": []
    },
    {
      "cell_type": "markdown",
      "metadata": {
        "id": "PWDlNugkFOZP"
      },
      "source": [
        "### Or: 5d French"
      ]
    },
    {
      "cell_type": "code",
      "metadata": {
        "id": "eL18LA1PFRAM"
      },
      "source": [
        "!wget https://heibox.uni-heidelberg.de/f/5cdb485efd4046f2a457/?dl=1"
      ],
      "execution_count": null,
      "outputs": []
    },
    {
      "cell_type": "code",
      "metadata": {
        "id": "BorzWO26H-Gx"
      },
      "source": [
        "!cp index.html?dl=1 /usr/local/lib/python3.7/dist-packages/gensim/test/test_data/myOwnLangText8.txt"
      ],
      "execution_count": null,
      "outputs": []
    },
    {
      "cell_type": "markdown",
      "metadata": {
        "id": "wHgYuC3WEkP9"
      },
      "source": [
        "### Or: 5e Russian"
      ]
    },
    {
      "cell_type": "code",
      "metadata": {
        "id": "bLZGPlAnE_-F"
      },
      "source": [
        "!wget https://heibox.uni-heidelberg.de/f/d8d381152ceb479080ca/?dl=1"
      ],
      "execution_count": null,
      "outputs": []
    },
    {
      "cell_type": "code",
      "metadata": {
        "id": "eY15aeujOCy-"
      },
      "source": [
        "!cp index.html?dl=1 /usr/local/lib/python3.7/dist-packages/gensim/test/test_data/myOwnLangText8.txt"
      ],
      "execution_count": null,
      "outputs": []
    },
    {
      "cell_type": "markdown",
      "metadata": {
        "id": "-AJ9guGSNkyw"
      },
      "source": [
        "### Stage6: Training own model"
      ]
    },
    {
      "cell_type": "markdown",
      "metadata": {
        "id": "kCj_-BYcOe7A"
      },
      "source": [
        "optional: to clean disk space, we remove the downloaded file"
      ]
    },
    {
      "cell_type": "code",
      "metadata": {
        "id": "NnO8k3CWOdqK"
      },
      "source": [
        "# optional: to clean disk space, we remove the downloaded file\n",
        "rm index.html\\?dl\\=1"
      ],
      "execution_count": null,
      "outputs": []
    },
    {
      "cell_type": "code",
      "metadata": {
        "id": "3AAzBAWaPQZB"
      },
      "source": [
        "from gensim.test.utils import datapath\n",
        "from gensim import utils\n",
        "\n",
        "class MyCorpus:\n",
        "    \"\"\"An iterator that yields sentences (lists of str).\"\"\"\n",
        "\n",
        "    def __iter__(self):\n",
        "        corpus_path = datapath('myOwnLangText8.txt')\n",
        "        for line in open(corpus_path):\n",
        "            # assume there's one document per line, tokens separated by whitespace\n",
        "            yield utils.simple_preprocess(line)"
      ],
      "execution_count": null,
      "outputs": []
    },
    {
      "cell_type": "code",
      "metadata": {
        "id": "i9VFjEuyQQ1u"
      },
      "source": [
        "import gensim.models\n",
        "corpusOwn = MyCorpus()"
      ],
      "execution_count": null,
      "outputs": []
    },
    {
      "cell_type": "markdown",
      "metadata": {
        "id": "DARUsusgQyWO"
      },
      "source": [
        "optional: examining what is in the corpus after standard preprocessing"
      ]
    },
    {
      "cell_type": "code",
      "metadata": {
        "colab": {
          "base_uri": "https://localhost:8080/"
        },
        "id": "-tLeaX0rQiD7",
        "outputId": "f641a308-555e-4c6e-cdca-e030d2e7e9ef"
      },
      "source": [
        "# Optional: Examining our corpus format\n",
        "type(corpusOwn)"
      ],
      "execution_count": null,
      "outputs": [
        {
          "output_type": "execute_result",
          "data": {
            "text/plain": [
              "__main__.MyCorpus"
            ]
          },
          "metadata": {
            "tags": []
          },
          "execution_count": 60
        }
      ]
    },
    {
      "cell_type": "code",
      "metadata": {
        "id": "zSzwUYw_QxYD"
      },
      "source": [
        "dataOwn = [d for d in corpusOwn]"
      ],
      "execution_count": null,
      "outputs": []
    },
    {
      "cell_type": "code",
      "metadata": {
        "colab": {
          "base_uri": "https://localhost:8080/"
        },
        "id": "4YWSko1SRLJl",
        "outputId": "3bf5a2bc-0122-41b3-9ece-7a66db927eee"
      },
      "source": [
        "print(len(dataOwn))\n",
        "print(dataOwn[0])\n",
        "print(len(dataOwn[0]))\n",
        "print(dataOwn[4])\n",
        "print(len(dataOwn[4]))\n",
        "print(dataOwn[5])\n",
        "print(len(dataOwn[5]))"
      ],
      "execution_count": null,
      "outputs": [
        {
          "output_type": "stream",
          "text": [
            "1167894\n",
            "['հայաստան']\n",
            "1\n",
            "['գտնվում', 'առաջավոր', 'ասիայի', 'հյուսիսային', 'մասում', 'հայկական', 'լեռնաշխարհի', 'հյուսիս', 'արևելքում', 'հյուսիսում', 'սահմանակցում', 'վրաստանին', 'արևելքում', 'ադրբեջանին', 'հարավում', 'իրանին', 'արևմուտքում', 'թուրքիային', 'հարավարևելյան', 'կողմում', 'արցախն', 'իսկ', 'հարավարևմտյան', 'կողմում', 'ադրբեջանի', 'վերահսկողության', 'տակ', 'գտնվող', 'նախիջևանի', 'ինքնավար', 'այժմյան', 'հայաստանի', 'զբաղեցնում', 'պատմական', 'հայաստանի', 'տարածքի', 'միայն', 'մեկ', 'տասներորդը']\n",
            "39\n",
            "[]\n",
            "0\n"
          ],
          "name": "stdout"
        }
      ]
    },
    {
      "cell_type": "markdown",
      "metadata": {
        "id": "468wJ6YkVNad"
      },
      "source": [
        "... Initialising global parameters for our modelL vector size, collocation window, skip-grams, negative sampling...."
      ]
    },
    {
      "cell_type": "code",
      "metadata": {
        "id": "xObhQQ2SVBDn"
      },
      "source": [
        "vector_size = 100 # Dimensionality of the word vectors\n",
        "window = 5 # How many words either side? (5 = 5 context words either side, i.e. 10 context words in total)\n",
        "use_skip_gram = 1 # If you set this to 0, then it will create a 'continuous bag of words' model instead\n",
        "use_softmax = 0 # If you set this to 1, then hierarchical softmax will be used instead of negative sampling\n",
        "negative_samples = 5 # How many incorrect answers to generate per correct answer when negative sampling\n",
        "\n",
        "modelOwn = Word2Vec(\n",
        "    size=vector_size,\n",
        "    window=window,\n",
        "    sg=use_skip_gram,\n",
        "    hs=use_softmax,\n",
        "    negative=negative_samples\n",
        ")"
      ],
      "execution_count": null,
      "outputs": []
    },
    {
      "cell_type": "markdown",
      "metadata": {
        "id": "e_QILgoIVeea"
      },
      "source": [
        "... this cell may run for ~2 min or so..."
      ]
    },
    {
      "cell_type": "code",
      "metadata": {
        "id": "gaecmdkPVLCh"
      },
      "source": [
        "modelOwn.build_vocab(corpusOwn)"
      ],
      "execution_count": null,
      "outputs": []
    },
    {
      "cell_type": "markdown",
      "metadata": {
        "id": "HEdwCKEVVnGv"
      },
      "source": [
        "THIS MAY TAKE LONG!!! ... training the model may take 9 to 15 minutes... (just grab a cup of coffee or a sandwich while you are waiting... You may try chaning the number of epochs; if the number is lower the training is faster, but the quality may be lower..."
      ]
    },
    {
      "cell_type": "code",
      "metadata": {
        "colab": {
          "base_uri": "https://localhost:8080/"
        },
        "id": "UrvDUrOJVxOG",
        "outputId": "39c7381b-db47-4e35-f83a-32692e34f667"
      },
      "source": [
        "modelOwn.train(sentences=corpusOwn, epochs=5, total_examples=modelOwn.corpus_count)"
      ],
      "execution_count": null,
      "outputs": [
        {
          "output_type": "execute_result",
          "data": {
            "text/plain": [
              "(52931044, 59493080)"
            ]
          },
          "metadata": {
            "tags": []
          },
          "execution_count": 69
        }
      ]
    },
    {
      "cell_type": "markdown",
      "metadata": {
        "id": "trrJqAeUWWmL"
      },
      "source": [
        "Now we copy word vectors and remove the model from memory (just to free up the resources...)"
      ]
    },
    {
      "cell_type": "code",
      "metadata": {
        "id": "h2GbyMw5WVZd"
      },
      "source": [
        "word_vectors_own = modelOwn.wv"
      ],
      "execution_count": null,
      "outputs": []
    },
    {
      "cell_type": "code",
      "metadata": {
        "id": "vjLyitW5Whff"
      },
      "source": [
        "del modelOwn"
      ],
      "execution_count": null,
      "outputs": []
    },
    {
      "cell_type": "markdown",
      "metadata": {
        "id": "q-ipjoSmWtOR"
      },
      "source": [
        "Now we can examine the output of our word embeddings"
      ]
    },
    {
      "cell_type": "code",
      "metadata": {
        "colab": {
          "base_uri": "https://localhost:8080/"
        },
        "id": "ZUVomonLWzHM",
        "outputId": "de17f252-126b-49f5-f2b8-c69fa52f44a4"
      },
      "source": [
        "# See the word vector for a particular word\n",
        "vector = word_vectors_own['աշխարհը']\n",
        "print(vector)"
      ],
      "execution_count": null,
      "outputs": [
        {
          "output_type": "stream",
          "text": [
            "[ 0.00925576 -0.21679187 -0.10143293 -0.08790848 -0.9898668   0.138489\n",
            " -0.6079319   0.0322052  -0.4307485  -0.5439113   0.16597003 -0.15359041\n",
            " -0.19356042 -0.14489087  0.11320248 -0.47308433 -0.19557634  0.16559385\n",
            " -0.07624771 -0.26146245  0.03173048 -0.07392281  0.3599486  -0.51605296\n",
            "  0.07634845 -0.30643633  0.2992248   0.08463982  0.04022128  0.00386411\n",
            "  0.5010493  -0.37127516 -0.16235727  0.5083681  -0.22574192 -0.51197743\n",
            "  0.10735268 -0.470586    0.08084131 -0.6373718   0.03096883 -0.37304923\n",
            " -0.37595758 -0.03294921 -0.01093819  0.23499577 -0.2008671   0.2247808\n",
            " -0.58609277  0.63877535 -0.4059472  -0.11139307 -0.49488732  0.4157141\n",
            "  0.15632175 -0.3237888   0.1774498   0.37975138 -0.16972205 -0.0392302\n",
            " -0.09761187  0.22073233  0.4421948  -0.2433244   0.52761173 -0.6264646\n",
            " -0.6101227  -0.3775409   0.62641895  0.00892956 -0.47023267 -0.6095405\n",
            " -0.21748962 -0.27753475 -0.37237066  0.6809342  -0.33488458  0.5949425\n",
            "  0.08881055  0.54613024  0.4405637   0.5185103  -0.29738647 -0.10948781\n",
            "  0.00565632  0.28492668  0.12040066  0.2508511  -0.22202659 -0.2281061\n",
            "  0.270247    0.45129403 -0.04275302 -0.29868162  0.27396706 -0.70716244\n",
            " -0.03598874 -0.21748671 -0.19788545  0.13341407]\n"
          ],
          "name": "stdout"
        }
      ]
    },
    {
      "cell_type": "code",
      "metadata": {
        "colab": {
          "base_uri": "https://localhost:8080/"
        },
        "id": "ga4LQhZJXmYV",
        "outputId": "cc56a996-5dbe-4a10-bbd1-08e2a6d6b416"
      },
      "source": [
        "# See which words are closest to a given word in the vector space = 'world'\n",
        "similar_words = word_vectors_own.most_similar('աշխարհը', topn=10)\n",
        "print('\\n'.join([str(tup) for tup in similar_words]))"
      ],
      "execution_count": null,
      "outputs": [
        {
          "output_type": "stream",
          "text": [
            "('աշխարհն', 0.8240735530853271)\n",
            "('բնությունը', 0.791570782661438)\n",
            "('իրականությունը', 0.7245132327079773)\n",
            "('բնությունն', 0.7222892045974731)\n",
            "('աշխարհին', 0.7122746109962463)\n",
            "('բնությամբ', 0.6882709264755249)\n",
            "('երջանկությունը', 0.6758852005004883)\n",
            "('աշխարհից', 0.6698960065841675)\n",
            "('աշխարհներ', 0.6678479909896851)\n",
            "('աշխարհների', 0.6569313406944275)\n"
          ],
          "name": "stdout"
        }
      ]
    },
    {
      "cell_type": "code",
      "metadata": {
        "colab": {
          "base_uri": "https://localhost:8080/"
        },
        "id": "9ECDUd8AXsF0",
        "outputId": "69aab314-2472-4890-82c8-a706b9dfb813"
      },
      "source": [
        "# blue\n",
        "similar_words = word_vectors_own.most_similar('կապույտ', topn=10) \n",
        "print('\\n'.join([str(tup) for tup in similar_words]))"
      ],
      "execution_count": null,
      "outputs": [
        {
          "output_type": "stream",
          "text": [
            "('սպիտակ', 0.8788720369338989)\n",
            "('դեղին', 0.8425295352935791)\n",
            "('երկնագույն', 0.8089927434921265)\n",
            "('ոսկեգույն', 0.8000855445861816)\n",
            "('նարնջագույն', 0.7974988222122192)\n",
            "('կանաչ', 0.7902588844299316)\n",
            "('կարմիր', 0.7898626327514648)\n",
            "('գույնի', 0.780249834060669)\n",
            "('սև', 0.7681521773338318)\n",
            "('վարդագույն', 0.7654380798339844)\n"
          ],
          "name": "stdout"
        }
      ]
    },
    {
      "cell_type": "code",
      "metadata": {
        "colab": {
          "base_uri": "https://localhost:8080/"
        },
        "id": "EKAl9NVdX8SM",
        "outputId": "ae4e90cf-0748-405d-d3d1-d93982b6e0af"
      },
      "source": [
        "# france\n",
        "similar_words = word_vectors_own.most_similar('ֆրանսիա', topn=10)\n",
        "print('\\n'.join([str(tup) for tup in similar_words]))"
      ],
      "execution_count": null,
      "outputs": [
        {
          "output_type": "stream",
          "text": [
            "('գերմանիա', 0.8913249373435974)\n",
            "('բելգիա', 0.8742892742156982)\n",
            "('շվեյցարիա', 0.8587836027145386)\n",
            "('իտալիա', 0.8325234651565552)\n",
            "('նիդերլանդներ', 0.821744441986084)\n",
            "('հունգարիա', 0.8003395795822144)\n",
            "('ֆինլանդիա', 0.7972214221954346)\n",
            "('շվեդիա', 0.7960591912269592)\n",
            "('անգլիա', 0.7947005033493042)\n",
            "('բեռլին', 0.7881938219070435)\n"
          ],
          "name": "stdout"
        }
      ]
    },
    {
      "cell_type": "code",
      "metadata": {
        "colab": {
          "base_uri": "https://localhost:8080/"
        },
        "id": "492wftrxZRhR",
        "outputId": "d7aa580a-f809-4a4b-b41c-53da3a9b8c52"
      },
      "source": [
        "# x is to king as woman is to man\n",
        "analogous_words = word_vectors_own.most_similar(negative=['մարդ'], positive=['թագավոր','կին'])\n",
        "print('\\n'.join([str(tup) for tup in analogous_words]))"
      ],
      "execution_count": null,
      "outputs": [
        {
          "output_type": "stream",
          "text": [
            "('թագուհի', 0.6449970006942749)\n",
            "('ֆրանցիսկ', 0.643743097782135)\n",
            "('սատրապ', 0.618059515953064)\n",
            "('հարալդ', 0.6160536408424377)\n",
            "('հարստությունից', 0.6126787662506104)\n",
            "('կինը', 0.6097305417060852)\n",
            "('շամիրամը', 0.6082308292388916)\n",
            "('թագադրվեց', 0.6042584180831909)\n",
            "('սիգիզմունդ', 0.603212833404541)\n",
            "('ներոնը', 0.5988626480102539)\n"
          ],
          "name": "stdout"
        }
      ]
    },
    {
      "cell_type": "code",
      "metadata": {
        "id": "5HOugAyWbYCE",
        "colab": {
          "base_uri": "https://localhost:8080/"
        },
        "outputId": "0b7d739d-2e52-4dc8-b32d-7c0e79ee90e4"
      },
      "source": [
        "# x is to king as woman is to man\n",
        "# x = small + biggest - big\n",
        "# 𝑥−𝑣𝑒𝑐𝑡𝑜𝑟(′𝑠𝑚𝑎𝑙𝑙′)=𝑣𝑒𝑐𝑡𝑜𝑟(′𝑏𝑖𝑔𝑔𝑒𝑠𝑡′)−𝑣𝑒𝑐𝑡𝑜𝑟(′𝑏𝑖𝑔′) \n",
        "# ∴ 𝑥=𝑣𝑒𝑐𝑡𝑜𝑟(′𝑠𝑚𝑎𝑙𝑙′)+𝑣𝑒𝑐𝑡𝑜𝑟(′𝑏𝑖𝑔𝑔𝑒𝑠𝑡′)−𝑣𝑒𝑐𝑡𝑜𝑟(′𝑏𝑖𝑔′) \n",
        "# ∴ 𝑥=𝑣𝑒𝑐𝑡𝑜𝑟(′փոքր′)+𝑣𝑒𝑐𝑡𝑜𝑟(′ամենամեծը′)−𝑣𝑒𝑐𝑡𝑜𝑟(′մեծ′) \n",
        "analogous_words = word_vectors_own.most_similar(negative=['մեծ'], positive=['ամենամեծը','փոքր'])\n",
        "print('\\n'.join([str(tup) for tup in analogous_words]))"
      ],
      "execution_count": null,
      "outputs": [
        {
          "output_type": "stream",
          "text": [
            "('հրաբուխ', 0.617445170879364)\n",
            "('ամենափոքրը', 0.6150267124176025)\n",
            "('մաունա', 0.6102248430252075)\n",
            "('իշտարի', 0.6023744344711304)\n",
            "('էվանտե', 0.5940436124801636)\n",
            "('հրաբուխն', 0.5931092500686646)\n",
            "('հրաբուխներ', 0.5918176174163818)\n",
            "('հրաբուխը', 0.591801106929779)\n",
            "('հրաբուխներից', 0.5895469188690186)\n",
            "('դելֆին', 0.5875853896141052)\n"
          ],
          "name": "stdout"
        }
      ]
    },
    {
      "cell_type": "code",
      "metadata": {
        "id": "Qz1h1O-MaY4J"
      },
      "source": [
        "# try your own examples... (also -- morphology?)\n",
        "# # x is to daughter as people is to person (plural + daughter)\n",
        "# analogous_words = word_vectors.most_similar(negative=['person'], positive=['people','daughter'])"
      ],
      "execution_count": null,
      "outputs": []
    }
  ]
}